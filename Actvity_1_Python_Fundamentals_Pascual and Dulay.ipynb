{
  "cells": [
    {
      "cell_type": "markdown",
      "metadata": {
        "id": "view-in-github",
        "colab_type": "text"
      },
      "source": [
        "<a href=\"https://colab.research.google.com/github/poruuuu/Linear-Algebra_ChE_2nd-Sem-2021-2022/blob/main/Actvity_1_Python_Fundamentals_Pascual%20and%20Dulay.ipynb\" target=\"_parent\"><img src=\"https://colab.research.google.com/assets/colab-badge.svg\" alt=\"Open In Colab\"/></a>"
      ]
    },
    {
      "cell_type": "markdown",
      "metadata": {
        "id": "wZKJubC_SfGP"
      },
      "source": [
        "# Welcome to Python Fundamentals\n",
        "In this module, we are going to establish or review our skills in Python programming. In this notebook we are going to cover:\n",
        "* Variables and Data Types \n",
        "  - In terms of programming, Variables are elements that can be changed while Data type, are referred as the language used and the operations that can be performed on it. \n",
        "\n",
        "* Operations\n",
        "  - Operations in terms of programming are the specific symbols that are used in manipulating the variables.\n",
        "\n",
        "* Input and Output Operations\n",
        "  - Input and output operations require their own built in functions to process a command. Input operations requires the use of input() while the output operation requires the use of print().\n",
        "\n",
        "* Logic Control\n",
        "  - Logic Control is a programming algorithm in which computation is viewed as computational modeling over a database of facts and rules. It is a computer language that is based on formal logic.\n",
        "\n",
        "* Iterables\n",
        "  - Iterables iIs an element that can be looped or iterated over with the usage of a for loop. An iteration to obtain elements one by one that provides data or variables.\n",
        "\n",
        "* Functions\n",
        "  - Functions is a programming block that only executes when it is executed. If a return statement is given, Python functions return a value. After a function has been defined, it may be invoked from anywhere."
      ]
    },
    {
      "cell_type": "markdown",
      "metadata": {
        "id": "USsFNGnJAX_w"
      },
      "source": [
        "## Variable and Data Types"
      ]
    },
    {
      "cell_type": "code",
      "execution_count": null,
      "metadata": {
        "colab": {
          "base_uri": "https://localhost:8080/"
        },
        "id": "RxN3MmllAbox",
        "outputId": "46a382bf-64ea-4a89-a466-06a7f8d02c73"
      },
      "outputs": [
        {
          "data": {
            "text/plain": [
              "28.2652"
            ]
          },
          "execution_count": 17,
          "metadata": {},
          "output_type": "execute_result"
        }
      ],
      "source": [
        "M = 28.2652\n",
        "a,r = 0, -82.4595\n",
        "M"
      ]
    },
    {
      "cell_type": "code",
      "execution_count": null,
      "metadata": {
        "colab": {
          "base_uri": "https://localhost:8080/"
        },
        "id": "rkXEUDs6BTN6",
        "outputId": "dedf3af2-a586-4398-80b4-6bc1d55a847c"
      },
      "outputs": [
        {
          "data": {
            "text/plain": [
              "float"
            ]
          },
          "execution_count": 18,
          "metadata": {},
          "output_type": "execute_result"
        }
      ],
      "source": [
        "type(M)"
      ]
    },
    {
      "cell_type": "code",
      "execution_count": null,
      "metadata": {
        "colab": {
          "base_uri": "https://localhost:8080/"
        },
        "id": "rEmA6kkhBjac",
        "outputId": "b7a89185-6912-48f8-8f71-f87b58000159"
      },
      "outputs": [
        {
          "data": {
            "text/plain": [
              "float"
            ]
          },
          "execution_count": 19,
          "metadata": {},
          "output_type": "execute_result"
        }
      ],
      "source": [
        "A = 5983.0835\n",
        "type (A)"
      ]
    },
    {
      "cell_type": "code",
      "execution_count": null,
      "metadata": {
        "colab": {
          "base_uri": "https://localhost:8080/"
        },
        "id": "7dk4lsaZBvXE",
        "outputId": "d9ced0c4-5edb-471b-8859-d99a3b8eb2b4"
      },
      "outputs": [
        {
          "data": {
            "text/plain": [
              "float"
            ]
          },
          "execution_count": 21,
          "metadata": {},
          "output_type": "execute_result"
        }
      ],
      "source": [
        "M = float(M)\n",
        "type(M)"
      ]
    },
    {
      "cell_type": "code",
      "execution_count": null,
      "metadata": {
        "colab": {
          "base_uri": "https://localhost:8080/"
        },
        "id": "A7sh2EV6B_wl",
        "outputId": "cfa20403-0e67-489c-b68e-105dfa7296f5"
      },
      "outputs": [
        {
          "data": {
            "text/plain": [
              "str"
            ]
          },
          "execution_count": 27,
          "metadata": {},
          "output_type": "execute_result"
        }
      ],
      "source": [
        "r,o,s = \"0\", '8', 'two'\n",
        "type(r)"
      ]
    },
    {
      "cell_type": "code",
      "execution_count": null,
      "metadata": {
        "colab": {
          "base_uri": "https://localhost:8080/"
        },
        "id": "0Uv5IASoCSyI",
        "outputId": "06d67aac-2ae1-4c52-d600-bfa1fb483c10"
      },
      "outputs": [
        {
          "data": {
            "text/plain": [
              "0"
            ]
          },
          "execution_count": 29,
          "metadata": {},
          "output_type": "execute_result"
        }
      ],
      "source": [
        "r_int = int(r)\n",
        "r_int"
      ]
    },
    {
      "cell_type": "markdown",
      "metadata": {
        "id": "R1D0KUqWCyp2"
      },
      "source": [
        "## Operations\n",
        "\n",
        "The different types of operators in Python are: \n",
        "* Arithmetic\n",
        "  - The arithmetic operators are;\n",
        "    - Addition (+)\n",
        "    - Subtraction (-)\n",
        "    - Multiplication (*)\n",
        "    - Division (/)\n",
        "    - Exponent (**) \n",
        "    - Floor Division (//)\n",
        "    - Modulus (%\n",
        "\n",
        "* Assignment\n",
        "  - The other assignment operators work in exactly the same way. These are:\n",
        "    - *=\n",
        "    - /=\n",
        "    - **=\n",
        "    - //=\n",
        "    - %=\n",
        "  \n",
        "* Comparison\n",
        "  - To compare the values of variables, you can use comparison operators. They will always return a boolean result of True or False.\n",
        "    - Equal: ==\n",
        "    - Not equal: !=\n",
        "    - Greater than: >\n",
        "    - Less than: <\n",
        "    - Greater than or equal:>=\n",
        "    - Less than or equal: <=\n",
        "\n",
        "* Logical\n",
        "  - Logical is a programming algorithm in which computation is viewed as computational modeling over a database of facts and rules. It is a computer language that is based on formal logic.\n",
        "  - These are also widely used in human language. They are: \n",
        "    - And\n",
        "    - Or\n",
        "    - Not\n"
      ]
    },
    {
      "cell_type": "markdown",
      "metadata": {
        "id": "J2ppht7fC44w"
      },
      "source": [
        "### Arithmetic"
      ]
    },
    {
      "cell_type": "code",
      "execution_count": null,
      "metadata": {
        "id": "FM9lzsxEC8jI"
      },
      "outputs": [],
      "source": [
        "m,a,r,p = 72.0, -0.12646, 0, -7.26"
      ]
    },
    {
      "cell_type": "code",
      "execution_count": null,
      "metadata": {
        "colab": {
          "base_uri": "https://localhost:8080/"
        },
        "id": "0LglvQxRDLj9",
        "outputId": "dc93a87b-2781-49a6-a16a-2af4ffb5e37a"
      },
      "outputs": [
        {
          "data": {
            "text/plain": [
              "-0.12646"
            ]
          },
          "execution_count": 48,
          "metadata": {},
          "output_type": "execute_result"
        }
      ],
      "source": [
        "# Addition\n",
        "B = r+a\n",
        "B"
      ]
    },
    {
      "cell_type": "code",
      "execution_count": null,
      "metadata": {
        "colab": {
          "base_uri": "https://localhost:8080/"
        },
        "id": "n3QRX7b1EkYZ",
        "outputId": "2197a224-0813-4e08-a0a8-ad4b20c63b56"
      },
      "outputs": [
        {
          "data": {
            "text/plain": [
              "79.26"
            ]
          },
          "execution_count": 49,
          "metadata": {},
          "output_type": "execute_result"
        }
      ],
      "source": [
        "# Subtraction\n",
        "F = m-p\n",
        "F"
      ]
    },
    {
      "cell_type": "code",
      "execution_count": null,
      "metadata": {
        "colab": {
          "base_uri": "https://localhost:8080/"
        },
        "id": "v-upw09xhW3U",
        "outputId": "1e528175-4a6d-4d78-deb4-2e2abe08f80b"
      },
      "outputs": [
        {
          "data": {
            "text/plain": [
              "0.0"
            ]
          },
          "execution_count": 50,
          "metadata": {},
          "output_type": "execute_result"
        }
      ],
      "source": [
        "# Multiplication\n",
        "M = r*m\n",
        "M"
      ]
    },
    {
      "cell_type": "code",
      "execution_count": null,
      "metadata": {
        "colab": {
          "base_uri": "https://localhost:8080/"
        },
        "id": "QBrfeobshgo9",
        "outputId": "88f6cfe9-4022-4954-f84a-7436ca789ee8"
      },
      "outputs": [
        {
          "data": {
            "text/plain": [
              "-569.3499920923613"
            ]
          },
          "execution_count": 51,
          "metadata": {},
          "output_type": "execute_result"
        }
      ],
      "source": [
        "# Division\n",
        "I = m/a\n",
        "I"
      ]
    },
    {
      "cell_type": "code",
      "execution_count": null,
      "metadata": {
        "colab": {
          "base_uri": "https://localhost:8080/"
        },
        "id": "Jbr3YkDYEskx",
        "outputId": "5cdc234d-dca5-4f53-994b-1ae6b67d4ed0"
      },
      "outputs": [
        {
          "data": {
            "text/plain": [
              "-0.0"
            ]
          },
          "execution_count": 52,
          "metadata": {},
          "output_type": "execute_result"
        }
      ],
      "source": [
        "# Floor Division\n",
        "J = r//p\n",
        "J\n"
      ]
    },
    {
      "cell_type": "code",
      "execution_count": null,
      "metadata": {
        "colab": {
          "base_uri": "https://localhost:8080/"
        },
        "id": "9hAct2cDE-t4",
        "outputId": "38b06a81-c2f0-4493-c764-bba0f99b9246"
      },
      "outputs": [
        {
          "data": {
            "text/plain": [
              "2.1909313935887196e-65"
            ]
          },
          "execution_count": 53,
          "metadata": {},
          "output_type": "execute_result"
        }
      ],
      "source": [
        "# Exponentiation\n",
        "L = a**m\n",
        "L"
      ]
    },
    {
      "cell_type": "code",
      "execution_count": null,
      "metadata": {
        "colab": {
          "base_uri": "https://localhost:8080/"
        },
        "id": "4jdDn6J9FrpF",
        "outputId": "7b1d9c2d-2394-40f2-a895-fd4b28835a02"
      },
      "outputs": [
        {
          "data": {
            "text/plain": [
              "-0.5999999999999979"
            ]
          },
          "execution_count": 56,
          "metadata": {},
          "output_type": "execute_result"
        }
      ],
      "source": [
        "# Modulo\n",
        "G = m%p\n",
        "G\n"
      ]
    },
    {
      "cell_type": "markdown",
      "metadata": {
        "id": "tO2af7g_JBp0"
      },
      "source": [
        "### Assignment Operations"
      ]
    },
    {
      "cell_type": "code",
      "execution_count": null,
      "metadata": {
        "colab": {
          "background_save": true
        },
        "id": "0G03nV9tJoTl"
      },
      "outputs": [],
      "source": [
        "U, J, I, N = 6786.98, 1000000, 87, -8328.72"
      ]
    },
    {
      "cell_type": "code",
      "execution_count": null,
      "metadata": {
        "colab": {
          "base_uri": "https://localhost:8080/"
        },
        "id": "Y6zjtkKnJwUa",
        "outputId": "43665a47-0ae5-4b53-d68e-ce918cb907af"
      },
      "outputs": [
        {
          "data": {
            "text/plain": [
              "13573.96"
            ]
          },
          "execution_count": 61,
          "metadata": {},
          "output_type": "execute_result"
        }
      ],
      "source": [
        "M += U\n",
        "M"
      ]
    },
    {
      "cell_type": "code",
      "execution_count": null,
      "metadata": {
        "colab": {
          "base_uri": "https://localhost:8080/"
        },
        "id": "7pEqPgmeKD9c",
        "outputId": "df3eb6c2-c762-47c5-987b-7a81c1b1080f"
      },
      "outputs": [
        {
          "data": {
            "text/plain": [
              "14311.803499999998"
            ]
          },
          "execution_count": 62,
          "metadata": {},
          "output_type": "execute_result"
        }
      ],
      "source": [
        "A -= N\n",
        "A"
      ]
    },
    {
      "cell_type": "code",
      "execution_count": null,
      "metadata": {
        "colab": {
          "base_uri": "https://localhost:8080/"
        },
        "id": "7oke8hJbKJQy",
        "outputId": "f0deb3df-5393-4bf9-b683-fcd602e5209c"
      },
      "outputs": [
        {
          "data": {
            "text/plain": [
              "4000000"
            ]
          },
          "execution_count": 63,
          "metadata": {},
          "output_type": "execute_result"
        }
      ],
      "source": [
        "J *= 4\n",
        "J"
      ]
    },
    {
      "cell_type": "code",
      "execution_count": null,
      "metadata": {
        "colab": {
          "base_uri": "https://localhost:8080/"
        },
        "id": "0QZYKe8yKUSB",
        "outputId": "215b1108-7400-447b-ad92-07ad71363095"
      },
      "outputs": [
        {
          "data": {
            "text/plain": [
              "37725479487783"
            ]
          },
          "execution_count": 64,
          "metadata": {},
          "output_type": "execute_result"
        }
      ],
      "source": [
        "I **= 7\n",
        "I"
      ]
    },
    {
      "cell_type": "markdown",
      "metadata": {
        "id": "tLrxWc5OLDny"
      },
      "source": [
        "### Comparators"
      ]
    },
    {
      "cell_type": "code",
      "execution_count": null,
      "metadata": {
        "id": "RbvpcEswLX0X"
      },
      "outputs": [],
      "source": [
        "std_1, std_2, std_3 = 7, 7.8, \"3\"\n",
        "true_val = 5.0"
      ]
    },
    {
      "cell_type": "code",
      "execution_count": null,
      "metadata": {
        "colab": {
          "base_uri": "https://localhost:8080/"
        },
        "id": "42pQCDLRLhYk",
        "outputId": "e81c184f-bb29-4f45-fa9e-64221dcb3fee"
      },
      "outputs": [
        {
          "data": {
            "text/plain": [
              "False"
            ]
          },
          "execution_count": 66,
          "metadata": {},
          "output_type": "execute_result"
        }
      ],
      "source": [
        "## Equality\n",
        "std_1 == true_val"
      ]
    },
    {
      "cell_type": "code",
      "execution_count": null,
      "metadata": {
        "colab": {
          "base_uri": "https://localhost:8080/"
        },
        "id": "2olIPwQOLrB_",
        "outputId": "a05a0d15-c9c0-4d2d-e880-5774683d12e2"
      },
      "outputs": [
        {
          "data": {
            "text/plain": [
              "True"
            ]
          },
          "execution_count": 67,
          "metadata": {},
          "output_type": "execute_result"
        }
      ],
      "source": [
        "## Non-equality\n",
        "std_2 != true_val"
      ]
    },
    {
      "cell_type": "code",
      "execution_count": null,
      "metadata": {
        "colab": {
          "base_uri": "https://localhost:8080/"
        },
        "id": "koKhHhznLw1o",
        "outputId": "ac08e300-5833-43ad-defa-60200f03683d"
      },
      "outputs": [
        {
          "data": {
            "text/plain": [
              "False"
            ]
          },
          "execution_count": 68,
          "metadata": {},
          "output_type": "execute_result"
        }
      ],
      "source": [
        "## Inequality\n",
        "E1 = std_1 > std_2\n",
        "E2 = std_1 < std_2/2\n",
        "E3 = std_1 >= std_2/2\n",
        "E4 = std_1 <= std_2\n",
        "E1"
      ]
    },
    {
      "cell_type": "markdown",
      "metadata": {
        "id": "a-csdwM_MOAW"
      },
      "source": [
        "## Logical"
      ]
    },
    {
      "cell_type": "code",
      "execution_count": null,
      "metadata": {
        "colab": {
          "base_uri": "https://localhost:8080/"
        },
        "id": "QXPqiU2mMS1H",
        "outputId": "40f3b4c4-70be-4898-c024-df0bdede16e1"
      },
      "outputs": [
        {
          "data": {
            "text/plain": [
              "False"
            ]
          },
          "execution_count": 69,
          "metadata": {},
          "output_type": "execute_result"
        }
      ],
      "source": [
        "std_2 == true_val"
      ]
    },
    {
      "cell_type": "code",
      "execution_count": null,
      "metadata": {
        "colab": {
          "base_uri": "https://localhost:8080/"
        },
        "id": "yQntSzNjMXwu",
        "outputId": "ab330a65-a4e1-4c0c-9d35-e32522d66918"
      },
      "outputs": [
        {
          "data": {
            "text/plain": [
              "False"
            ]
          },
          "execution_count": 70,
          "metadata": {},
          "output_type": "execute_result"
        }
      ],
      "source": [
        "std_3 is true_val"
      ]
    },
    {
      "cell_type": "code",
      "execution_count": null,
      "metadata": {
        "colab": {
          "base_uri": "https://localhost:8080/"
        },
        "id": "7GL6F8iaMab4",
        "outputId": "cad85226-7287-4211-f8f6-d1a369439655"
      },
      "outputs": [
        {
          "data": {
            "text/plain": [
              "True"
            ]
          },
          "execution_count": 71,
          "metadata": {},
          "output_type": "execute_result"
        }
      ],
      "source": [
        "std_1 is not true_val"
      ]
    },
    {
      "cell_type": "code",
      "execution_count": null,
      "metadata": {
        "colab": {
          "base_uri": "https://localhost:8080/"
        },
        "id": "MHZEBp1-Mdnh",
        "outputId": "58f6659a-2967-4565-f3d2-deca69e223a9"
      },
      "outputs": [
        {
          "data": {
            "text/plain": [
              "False"
            ]
          },
          "execution_count": 75,
          "metadata": {},
          "output_type": "execute_result"
        }
      ],
      "source": [
        "Y,Z = False, True\n",
        "conjunction = Y and Z\n",
        "conjunction"
      ]
    },
    {
      "cell_type": "code",
      "execution_count": null,
      "metadata": {
        "colab": {
          "base_uri": "https://localhost:8080/"
        },
        "id": "iB7rwNoGMohT",
        "outputId": "7009d130-1992-4ecc-f50f-767051939095"
      },
      "outputs": [
        {
          "data": {
            "text/plain": [
              "False"
            ]
          },
          "execution_count": 76,
          "metadata": {},
          "output_type": "execute_result"
        }
      ],
      "source": [
        "Y,Z = False, True\n",
        "disjunction = Y and Z\n",
        "disjunction"
      ]
    },
    {
      "cell_type": "code",
      "execution_count": null,
      "metadata": {
        "colab": {
          "base_uri": "https://localhost:8080/"
        },
        "id": "uBgnQPPDNBzG",
        "outputId": "fd109f6a-2b80-4bce-ecf1-46dd95275119"
      },
      "outputs": [
        {
          "data": {
            "text/plain": [
              "True"
            ]
          },
          "execution_count": 77,
          "metadata": {},
          "output_type": "execute_result"
        }
      ],
      "source": [
        "Y,Z = False, True\n",
        "negation = not(Y and Z)\n",
        "negation"
      ]
    },
    {
      "cell_type": "code",
      "execution_count": null,
      "metadata": {
        "colab": {
          "base_uri": "https://localhost:8080/"
        },
        "id": "ui4JtCUMOJVm",
        "outputId": "a1aeca9f-28ea-4f33-e8f8-96120922b52b"
      },
      "outputs": [
        {
          "data": {
            "text/plain": [
              "True"
            ]
          },
          "execution_count": 78,
          "metadata": {},
          "output_type": "execute_result"
        }
      ],
      "source": [
        "Y,Z = False, True\n",
        "conditional = (not Y and Z) or (Y and not Z)\n",
        "conditional"
      ]
    },
    {
      "cell_type": "markdown",
      "metadata": {
        "id": "P0JgsiJ_OohD"
      },
      "source": [
        "### Input/Output\n",
        "\n",
        "- print() = Output operation\n",
        "- input() = Input operation"
      ]
    },
    {
      "cell_type": "code",
      "execution_count": null,
      "metadata": {
        "colab": {
          "base_uri": "https://localhost:8080/"
        },
        "id": "o74pQCCUOr9A",
        "outputId": "2850c760-ad0d-4b0e-9056-9ec69919ee8d"
      },
      "outputs": [
        {
          "name": "stdout",
          "output_type": "stream",
          "text": [
            "Your time is limited, so don’t waste it living someone else’s life. Don’t be trapped by dogma – which is living with the results of other people’s thinking.\n"
          ]
        }
      ],
      "source": [
        "print(\"Your time is limited, so don’t waste it living someone else’s life. Don’t be trapped by dogma – which is living with the results of other people’s thinking.\")"
      ]
    },
    {
      "cell_type": "code",
      "execution_count": null,
      "metadata": {
        "id": "9XxVXlwBPE28"
      },
      "outputs": [],
      "source": [
        "cnt = 2"
      ]
    },
    {
      "cell_type": "code",
      "execution_count": null,
      "metadata": {
        "colab": {
          "base_uri": "https://localhost:8080/"
        },
        "id": "5OSJeUUDPGak",
        "outputId": "4926fd90-88a3-4c12-9dd0-d8b806579f71"
      },
      "outputs": [
        {
          "name": "stdout",
          "output_type": "stream",
          "text": [
            "Your time is limited, so don’t waste it living someone else’s life. Don’t be trapped by dogma – which is living with the results of other people’s thinking. , Current run count is: 3\n"
          ]
        }
      ],
      "source": [
        "string = \"Your time is limited, so don’t waste it living someone else’s life. Don’t be trapped by dogma – which is living with the results of other people’s thinking.\"\n",
        "print(string, \", Current run count is:\", cnt)\n",
        "cnt += 1"
      ]
    },
    {
      "cell_type": "code",
      "execution_count": null,
      "metadata": {
        "colab": {
          "base_uri": "https://localhost:8080/"
        },
        "id": "mEdNkHfKPZpo",
        "outputId": "bdc89f51-1337-490d-fe2e-e90fabc1adbd"
      },
      "outputs": [
        {
          "name": "stdout",
          "output_type": "stream",
          "text": [
            "Your time is limited, so don’t waste it living someone else’s life. Don’t be trapped by dogma – which is living with the results of other people’s thinking., Current count is: 4\n"
          ]
        }
      ],
      "source": [
        "print(f\"{string}, Current count is: {cnt}\")"
      ]
    },
    {
      "cell_type": "code",
      "execution_count": null,
      "metadata": {
        "colab": {
          "base_uri": "https://localhost:8080/"
        },
        "id": "TzWiSJI8P1AA",
        "outputId": "53eae9a4-0d12-4bb9-a976-f6c25872c8fa"
      },
      "outputs": [
        {
          "name": "stdout",
          "output_type": "stream",
          "text": [
            "Hello Rosalin Dulay, your semestral grade is: 1.0\n"
          ]
        }
      ],
      "source": [
        "sem_grade = 1.0\n",
        "name = \"Rosalin Dulay\"\n",
        "print(\"Hello {}, your semestral grade is: {}\".format(name, sem_grade))"
      ]
    },
    {
      "cell_type": "code",
      "execution_count": null,
      "metadata": {
        "colab": {
          "base_uri": "https://localhost:8080/"
        },
        "id": "nbdkr70wQ4tL",
        "outputId": "b7f4b4fc-8e3c-46fe-e325-e90c7e6c0987"
      },
      "outputs": [
        {
          "name": "stdout",
          "output_type": "stream",
          "text": [
            "The weights of your semestral grades are:\n",
            "\t30.00000% for Prelims\n",
            "\t30.00000% for Midterms, and\n",
            "\t40.00000% for Finals.\n"
          ]
        }
      ],
      "source": [
        "w_pg, w_mg, w_fg = 0.3, 0.3, 0.4\n",
        "print(\"The weights of your semestral grades are:\\\n",
        "\\n\\t{:.5%} for Prelims\\\n",
        "\\n\\t{:.5%} for Midterms, and\\\n",
        "\\n\\t{:.5%} for Finals.\".format(w_pg, w_mg, w_fg))\n"
      ]
    },
    {
      "cell_type": "code",
      "execution_count": 90,
      "metadata": {
        "colab": {
          "base_uri": "https://localhost:8080/",
          "height": 54
        },
        "id": "60qKFHjgDJ3e",
        "outputId": "c7112aa0-be55-4559-c046-f62f21d74102"
      },
      "outputs": [
        {
          "name": "stdout",
          "output_type": "stream",
          "text": [
            "Enter your full name: Andeng\n"
          ]
        },
        {
          "output_type": "execute_result",
          "data": {
            "application/vnd.google.colaboratory.intrinsic+json": {
              "type": "string"
            },
            "text/plain": [
              "'Andeng'"
            ]
          },
          "metadata": {},
          "execution_count": 90
        }
      ],
      "source": [
        "V = input(\"Enter your full name: \")\n",
        "V"
      ]
    },
    {
      "cell_type": "code",
      "execution_count": 92,
      "metadata": {
        "colab": {
          "base_uri": "https://localhost:8080/"
        },
        "id": "nhZSXn3hBH9A",
        "outputId": "3566ee67-6135-4732-eed0-d08b50652005"
      },
      "outputs": [
        {
          "output_type": "stream",
          "name": "stdout",
          "text": [
            "Enter your full name: Andeng\n",
            "Enter prelim grade: 2.0\n",
            "Enter midterm grade: 1.75\n",
            "Enter final grade: 1.25\n",
            "Hello Andeng, your semestral grade is: 1.75\n"
          ]
        }
      ],
      "source": [
        "name = input(\"Enter your full name: \")\n",
        "pg = input(\"Enter prelim grade: \")\n",
        "mg = input(\"Enter midterm grade: \")\n",
        "fg = input(\"Enter final grade: \")\n",
        "sem_grade = 1.75\n",
        "print(\"Hello {}, your semestral grade is: {}\".format(name, sem_grade))"
      ]
    },
    {
      "cell_type": "markdown",
      "metadata": {
        "id": "R2cguFprDsT3"
      },
      "source": [
        "##Looping Statements"
      ]
    },
    {
      "cell_type": "markdown",
      "metadata": {
        "id": "gG-VH3orDwai"
      },
      "source": [
        "###While\n",
        "\n",
        "* This concept will execute a code repeatedly as long as the given condition still holds true. "
      ]
    },
    {
      "cell_type": "code",
      "execution_count": 97,
      "metadata": {
        "colab": {
          "base_uri": "https://localhost:8080/"
        },
        "id": "vkZTX6PeDyp1",
        "outputId": "29d246e4-6a94-4e15-9353-2a48c9f50701"
      },
      "outputs": [
        {
          "output_type": "stream",
          "name": "stdout",
          "text": [
            "20\t|\t40\n",
            "22\t|\t40\n",
            "24\t|\t40\n",
            "26\t|\t40\n",
            "28\t|\t40\n",
            "30\t|\t40\n",
            "32\t|\t40\n",
            "34\t|\t40\n",
            "36\t|\t40\n",
            "38\t|\t40\n",
            "40\t|\t40\n"
          ]
        }
      ],
      "source": [
        "## while loops\n",
        "E, R = 20, 40\n",
        "while (E<=R):\n",
        "      print(f\"{E}\\t|\\t{R}\")\n",
        "      E+=2"
      ]
    },
    {
      "cell_type": "markdown",
      "metadata": {
        "id": "7ze6kW2EFdxH"
      },
      "source": [
        "###For\n",
        "\n",
        "* For loop executes a code within the range of the given variable."
      ]
    },
    {
      "cell_type": "code",
      "execution_count": 98,
      "metadata": {
        "colab": {
          "base_uri": "https://localhost:8080/"
        },
        "id": "OX-Sxcl1Ffcs",
        "outputId": "0fbed9fd-b7bf-4b18-9dd6-2aecd1f6e052"
      },
      "outputs": [
        {
          "output_type": "stream",
          "name": "stdout",
          "text": [
            "0\n",
            "1\n",
            "2\n",
            "3\n",
            "4\n"
          ]
        }
      ],
      "source": [
        "# for(int E=0; E<10; E++){\n",
        "# printf(E)\n",
        "# }\n",
        "\n",
        "E=0\n",
        "for E in range(5):\n",
        "  print(E)"
      ]
    },
    {
      "cell_type": "code",
      "execution_count": 99,
      "metadata": {
        "colab": {
          "base_uri": "https://localhost:8080/"
        },
        "id": "iBM1KcwVHegj",
        "outputId": "68f17e76-9d3e-41fa-8815-17cf177f54a5"
      },
      "outputs": [
        {
          "output_type": "stream",
          "name": "stdout",
          "text": [
            "Now Playing:\n",
            "\n",
            "Rasputin\n",
            "Bohemian Rhapsody\n",
            "Howl's moving castle\n"
          ]
        }
      ],
      "source": [
        "playlist = [\"Rasputin\", \"Bohemian Rhapsody\", \"Howl's moving castle\"]\n",
        "print('Now Playing:\\n')\n",
        "for song in playlist:\n",
        "    print(song)"
      ]
    },
    {
      "cell_type": "markdown",
      "metadata": {
        "id": "jZbKPsSxHx4n"
      },
      "source": [
        "##Flow Control"
      ]
    },
    {
      "cell_type": "code",
      "execution_count": 100,
      "metadata": {
        "colab": {
          "base_uri": "https://localhost:8080/"
        },
        "id": "fDPMzkudc3tV",
        "outputId": "3e690a23-ce97-423a-b048-122fa228fc38"
      },
      "outputs": [
        {
          "output_type": "stream",
          "name": "stdout",
          "text": [
            "Place num: 5\n",
            "Place 2nd num: 14656\n",
            "HoeHoe\n"
          ]
        }
      ],
      "source": [
        "N1 = input(\"Place num: \") \n",
        "N2 = input(\"Place 2nd num: \")\n",
        "\n",
        "if(N1 == N2):\n",
        "    print(\"yey\")\n",
        "elif(N1>N2):\n",
        "    print(\"HoeHoe\")\n",
        "else:\n",
        "    print(\"Sniper no swiping\")"
      ]
    },
    {
      "cell_type": "markdown",
      "metadata": {
        "id": "trctwI6GJLh8"
      },
      "source": [
        "## Functions"
      ]
    },
    {
      "cell_type": "code",
      "execution_count": 104,
      "metadata": {
        "id": "SCV36BlYJNA4"
      },
      "outputs": [],
      "source": [
        "# void DeleteUser(int userid){\n",
        "#     create(userid);\n",
        "# }\n",
        "\n",
        "def create_user (userid):\n",
        "    print(\"Successfully created user ID: {}\".format(userid))\n",
        "\n",
        "def create_all_users ():\n",
        "    print(\"Successfully created all users\")"
      ]
    },
    {
      "cell_type": "code",
      "execution_count": 105,
      "metadata": {
        "colab": {
          "base_uri": "https://localhost:8080/"
        },
        "id": "2g9BDE3rKQm3",
        "outputId": "b7d5f814-5542-4164-e025-4edff144327c"
      },
      "outputs": [
        {
          "output_type": "stream",
          "name": "stdout",
          "text": [
            "Successfully created user ID: 202011160\n",
            "Successfully created all users\n"
          ]
        }
      ],
      "source": [
        "userid = 202011160\n",
        "create_user(202011160)\n",
        "create_all_users()"
      ]
    },
    {
      "cell_type": "code",
      "execution_count": 106,
      "metadata": {
        "colab": {
          "base_uri": "https://localhost:8080/"
        },
        "id": "N5-m8TWwKYCh",
        "outputId": "81e2bd22-4d21-4371-b166-0fb0b89d4aa9"
      },
      "outputs": [
        {
          "output_type": "execute_result",
          "data": {
            "text/plain": [
              "4"
            ]
          },
          "metadata": {},
          "execution_count": 106
        }
      ],
      "source": [
        "def add(Num1, Num2):\n",
        "    print(\"I can add all the numbers.\")\n",
        "    return Num1 + Num2\n",
        "\n",
        "def power_of_base2(exponent):\n",
        "    return 2**exponent\n",
        "\n",
        "Num1 = 20\n",
        "Num2 = 30\n",
        "\n",
        "exponent = 2\n",
        "\n",
        "#add(Num1, Num2)\n",
        "power_of_base2(exponent)"
      ]
    },
    {
      "cell_type": "code",
      "execution_count": 107,
      "metadata": {
        "colab": {
          "base_uri": "https://localhost:8080/"
        },
        "id": "h9LlkfPdNu9c",
        "outputId": "1a694c2e-492b-4048-d789-9985ae518609"
      },
      "outputs": [
        {
          "output_type": "stream",
          "name": "stdout",
          "text": [
            "I can add all the numbers.\n"
          ]
        },
        {
          "output_type": "execute_result",
          "data": {
            "text/plain": [
              "50"
            ]
          },
          "metadata": {},
          "execution_count": 107
        }
      ],
      "source": [
        "add(Num1, Num2)"
      ]
    }
  ],
  "metadata": {
    "colab": {
      "name": "Actvity 1-Python Fundamentals",
      "provenance": [],
      "include_colab_link": true
    },
    "kernelspec": {
      "display_name": "Python 3",
      "name": "python3"
    },
    "language_info": {
      "name": "python"
    }
  },
  "nbformat": 4,
  "nbformat_minor": 0
}