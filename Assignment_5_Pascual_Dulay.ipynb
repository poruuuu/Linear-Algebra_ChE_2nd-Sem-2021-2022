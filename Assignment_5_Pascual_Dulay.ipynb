{
  "cells": [
    {
      "cell_type": "markdown",
      "metadata": {
        "id": "view-in-github",
        "colab_type": "text"
      },
      "source": [
        "<a href=\"https://colab.research.google.com/github/poruuuu/Linear-Algebra_ChE_2nd-Sem-2021-2022/blob/main/Assignment_5_Pascual_Dulay.ipynb\" target=\"_parent\"><img src=\"https://colab.research.google.com/assets/colab-badge.svg\" alt=\"Open In Colab\"/></a>"
      ]
    },
    {
      "cell_type": "markdown",
      "metadata": {
        "id": "2iZg5wmhS8zf"
      },
      "source": [
        "# Laboratory 4: Matrix Operations"
      ]
    },
    {
      "cell_type": "markdown",
      "metadata": {
        "id": "swClsAP1mftU"
      },
      "source": [
        "## Objectives\n",
        "* Be familiar with the fundamental matrix operations.\n",
        "* Apply the operations to solve intermediate equations.\n",
        "* Apply matrix algebra in engineering solutions."
      ]
    },
    {
      "cell_type": "markdown",
      "metadata": {
        "id": "GK465Yn4mr6I"
      },
      "source": [
        "## Discussion"
      ]
    },
    {
      "cell_type": "code",
      "execution_count": null,
      "metadata": {
        "id": "gKRoHZ8uTEHZ"
      },
      "outputs": [],
      "source": [
        "import numpy as np\n",
        "import matplotlib.pyplot as plt\n",
        "%matplotlib inline"
      ]
    },
    {
      "cell_type": "markdown",
      "metadata": {
        "id": "oWqtRK_Om3nr"
      },
      "source": [
        "## Transposition\n",
        "The transpose of a matrix is done by flipping the values of its elements over its diagonals. With this, the rows and columns from the original matrix will be switched. So for a matrix $R$ its transpose is denoted as $R^T$. So for example:"
      ]
    },
    {
      "cell_type": "markdown",
      "metadata": {
        "id": "Y09aOXglUB5s"
      },
      "source": [
        "$$R = \\begin{bmatrix} 7 & -6 & -2\\\\11 & 4 &3 \\\\ -1 & 8 & 2\\end{bmatrix} $$\n"
      ]
    },
    {
      "cell_type": "markdown",
      "metadata": {
        "id": "zGorgeR_UYZ9"
      },
      "source": [
        "$$R^T = \\begin{bmatrix} 7 & 11 & -1\\\\-6 & 4 &8 \\\\ -2 & 3 & 2\\end{bmatrix} $$\n"
      ]
    },
    {
      "cell_type": "markdown",
      "metadata": {
        "id": "R3lKg9tvnl-r"
      },
      "source": [
        "This can now be achieved programmatically by using np.transpose() or using the T method."
      ]
    },
    {
      "cell_type": "code",
      "execution_count": null,
      "metadata": {
        "colab": {
          "base_uri": "https://localhost:8080/"
        },
        "id": "Hh39EOuLVIYg",
        "outputId": "28bcd9bb-7a55-42d4-99bf-90e5d093d57d"
      },
      "outputs": [
        {
          "output_type": "execute_result",
          "data": {
            "text/plain": [
              "array([[ 7, -6, -2],\n",
              "       [11,  4,  3],\n",
              "       [-1,  8,  2]])"
            ]
          },
          "metadata": {},
          "execution_count": 2
        }
      ],
      "source": [
        "R = np.array([\n",
        "    [7 ,-6, -2],\n",
        "    [11, 4, 3],\n",
        "    [-1, 8, 2]\n",
        "])\n",
        "R"
      ]
    },
    {
      "cell_type": "code",
      "execution_count": null,
      "metadata": {
        "colab": {
          "base_uri": "https://localhost:8080/"
        },
        "id": "PhZuWqJ-VJq0",
        "outputId": "9170576e-4360-496f-d40e-053caf70b478"
      },
      "outputs": [
        {
          "output_type": "execute_result",
          "data": {
            "text/plain": [
              "array([[ 7, 11, -1],\n",
              "       [-6,  4,  8],\n",
              "       [-2,  3,  2]])"
            ]
          },
          "metadata": {},
          "execution_count": 3
        }
      ],
      "source": [
        "RT1 = np.transpose(R)\n",
        "RT1"
      ]
    },
    {
      "cell_type": "code",
      "execution_count": null,
      "metadata": {
        "colab": {
          "base_uri": "https://localhost:8080/"
        },
        "id": "XTQOuT8CVMNt",
        "outputId": "1030883a-2616-4834-b43e-eceadabf67fa"
      },
      "outputs": [
        {
          "output_type": "execute_result",
          "data": {
            "text/plain": [
              "array([[ 7, 11, -1],\n",
              "       [-6,  4,  8],\n",
              "       [-2,  3,  2]])"
            ]
          },
          "metadata": {},
          "execution_count": 4
        }
      ],
      "source": [
        "RT2 = R.T\n",
        "RT2"
      ]
    },
    {
      "cell_type": "code",
      "execution_count": null,
      "metadata": {
        "colab": {
          "base_uri": "https://localhost:8080/"
        },
        "id": "iiI1O9_gViqi",
        "outputId": "ed8c17ad-8104-42e3-bfe0-f652a11fb757"
      },
      "outputs": [
        {
          "output_type": "execute_result",
          "data": {
            "text/plain": [
              "True"
            ]
          },
          "metadata": {},
          "execution_count": 5
        }
      ],
      "source": [
        "np.array_equiv(RT1, RT2)"
      ]
    },
    {
      "cell_type": "code",
      "execution_count": null,
      "metadata": {
        "colab": {
          "base_uri": "https://localhost:8080/"
        },
        "id": "cwnw6IHwYKVE",
        "outputId": "00b46177-a3e0-4506-cf1b-a099af1a817a"
      },
      "outputs": [
        {
          "output_type": "execute_result",
          "data": {
            "text/plain": [
              "(3, 4)"
            ]
          },
          "metadata": {},
          "execution_count": 6
        }
      ],
      "source": [
        "M = np.array([\n",
        "    [-12,-11,8,-9],\n",
        "    [0,7,23,14],\n",
        "    [3,17,-1,0]\n",
        "])\n",
        "M.shape"
      ]
    },
    {
      "cell_type": "code",
      "execution_count": null,
      "metadata": {
        "colab": {
          "base_uri": "https://localhost:8080/"
        },
        "id": "OxCbxvu9YZEj",
        "outputId": "6c1a711c-e89e-4fca-f72d-be48fde060ce"
      },
      "outputs": [
        {
          "output_type": "execute_result",
          "data": {
            "text/plain": [
              "(4, 3)"
            ]
          },
          "metadata": {},
          "execution_count": 7
        }
      ],
      "source": [
        "np.transpose(M).shape"
      ]
    },
    {
      "cell_type": "code",
      "execution_count": null,
      "metadata": {
        "colab": {
          "base_uri": "https://localhost:8080/"
        },
        "id": "2bPfuymSYcC2",
        "outputId": "51ac3895-068a-46e9-c84a-3e458167870f"
      },
      "outputs": [
        {
          "output_type": "execute_result",
          "data": {
            "text/plain": [
              "(4, 3)"
            ]
          },
          "metadata": {},
          "execution_count": 8
        }
      ],
      "source": [
        "M.T.shape"
      ]
    },
    {
      "cell_type": "markdown",
      "metadata": {
        "id": "I3zTMVYPYy7Y"
      },
      "source": [
        "### Try to create your own matrix (non-squares) to test transposition."
      ]
    },
    {
      "cell_type": "code",
      "execution_count": null,
      "metadata": {
        "colab": {
          "base_uri": "https://localhost:8080/"
        },
        "id": "gS-985UgY16q",
        "outputId": "c759755a-5458-455b-c3bb-f7a4c80816ea"
      },
      "outputs": [
        {
          "output_type": "execute_result",
          "data": {
            "text/plain": [
              "(4, 2)"
            ]
          },
          "metadata": {},
          "execution_count": 9
        }
      ],
      "source": [
        "## Try out your code here.\n",
        "Z=np.array([\n",
        "    [-7,0],\n",
        "    [42,-31],\n",
        "    [6,19],\n",
        "    [24,-9]\n",
        "])\n",
        "Z.shape"
      ]
    },
    {
      "cell_type": "code",
      "execution_count": null,
      "metadata": {
        "colab": {
          "base_uri": "https://localhost:8080/"
        },
        "id": "bOAIyvzyY7Tw",
        "outputId": "b0b5a7a2-d24d-415c-e6fc-7acf351355dd"
      },
      "outputs": [
        {
          "output_type": "execute_result",
          "data": {
            "text/plain": [
              "(2, 4)"
            ]
          },
          "metadata": {},
          "execution_count": 10
        }
      ],
      "source": [
        "np.transpose(Z).shape"
      ]
    },
    {
      "cell_type": "code",
      "execution_count": null,
      "metadata": {
        "colab": {
          "base_uri": "https://localhost:8080/"
        },
        "id": "TH4hQ4_qY9Uq",
        "outputId": "f4f3c93b-81d6-4ebe-8ef6-59ff16bf132c"
      },
      "outputs": [
        {
          "output_type": "execute_result",
          "data": {
            "text/plain": [
              "(2, 4)"
            ]
          },
          "metadata": {},
          "execution_count": 11
        }
      ],
      "source": [
        "Z.T.shape"
      ]
    },
    {
      "cell_type": "code",
      "execution_count": null,
      "metadata": {
        "colab": {
          "base_uri": "https://localhost:8080/"
        },
        "id": "2FbFSUbBZAKG",
        "outputId": "b4ffcb91-5455-4909-d80e-3962bdb79d7d"
      },
      "outputs": [
        {
          "output_type": "execute_result",
          "data": {
            "text/plain": [
              "array([[ -7,  42,   6,  24],\n",
              "       [  0, -31,  19,  -9]])"
            ]
          },
          "metadata": {},
          "execution_count": 12
        }
      ],
      "source": [
        "ZT = Z.T\n",
        "ZT"
      ]
    },
    {
      "cell_type": "markdown",
      "metadata": {
        "id": "TmCMMtoPZCsi"
      },
      "source": [
        "## Dot Product / Inner Product\n",
        "In matrix dot product we are going to get the sum of products of the vectors by row-column pairs. So if we have two matrices $A$ and $P$:"
      ]
    },
    {
      "cell_type": "markdown",
      "metadata": {
        "id": "gMDFT6K-pKSe"
      },
      "source": [
        "If we have two matrices $A$ and $P$:\n",
        "\n",
        "$$A = \\begin{bmatrix}A_{(0,0)}&A_{(0,1)}\\\\ A_{(1,0)}&A_{(1,1)}\\end{bmatrix}, P = \\begin{bmatrix}P_{(0,0)}&P_{(0,1)}\\\\ P_{(1,0)}&P_{(1,1)}\\end{bmatrix}$$\n",
        "\n",
        "The dot product will then be computed as:\n",
        "$$A \\cdot P= \\begin{bmatrix} A_{(0,0)}*P_{(0,0)} + A_{(0,1)}*P_{(1,0)} & A_{(0,0)}*P_{(0,1)} + A_{(0,1)}*P_{(1,1)} \\\\  A_{(1,0)}*P_{(0,0)} + A_{(1,1)}*P_{(1,0)} & A_{(1,0)}*P_{(0,1)} + A_{(1,1)}*P_{(1,1)}\n",
        "\\end{bmatrix}$$\n",
        "\n",
        "So if we assign values to $X$ and $Y$:\n",
        "$$A = \\begin{bmatrix}-2&7\\\\ 9&-17\\end{bmatrix}, P = \\begin{bmatrix}31&-8\\\\ -4&25\\end{bmatrix}$$"
      ]
    },
    {
      "cell_type": "code",
      "execution_count": null,
      "metadata": {
        "id": "AHYgH56xZENn"
      },
      "outputs": [],
      "source": [
        "A = np.array([\n",
        "    [-2,7],\n",
        "    [9,-17]\n",
        "])\n",
        "P = np.array([\n",
        "    [31,-8],\n",
        "    [-4,25]\n",
        "])"
      ]
    },
    {
      "cell_type": "code",
      "execution_count": null,
      "metadata": {
        "colab": {
          "base_uri": "https://localhost:8080/"
        },
        "id": "LLdoL8_wZOCj",
        "outputId": "9a018ae7-65c2-4fc4-e7c7-fbb2e5ff58f1"
      },
      "outputs": [
        {
          "output_type": "execute_result",
          "data": {
            "text/plain": [
              "False"
            ]
          },
          "metadata": {},
          "execution_count": 14
        }
      ],
      "source": [
        "np.array_equiv(A, P)"
      ]
    },
    {
      "cell_type": "code",
      "execution_count": null,
      "metadata": {
        "colab": {
          "base_uri": "https://localhost:8080/"
        },
        "id": "4FmsKHSTZQJ8",
        "outputId": "31039e87-02b5-4f49-b66a-77390c48a40a"
      },
      "outputs": [
        {
          "output_type": "execute_result",
          "data": {
            "text/plain": [
              "array([[ -90,  191],\n",
              "       [ 347, -497]])"
            ]
          },
          "metadata": {},
          "execution_count": 15
        }
      ],
      "source": [
        "np.dot(A,P)"
      ]
    },
    {
      "cell_type": "code",
      "execution_count": null,
      "metadata": {
        "colab": {
          "base_uri": "https://localhost:8080/"
        },
        "id": "8UNzf9GmZR16",
        "outputId": "5eb8a272-066f-4af2-cd44-5295d0028f78"
      },
      "outputs": [
        {
          "output_type": "execute_result",
          "data": {
            "text/plain": [
              "array([[ -90,  191],\n",
              "       [ 347, -497]])"
            ]
          },
          "metadata": {},
          "execution_count": 16
        }
      ],
      "source": [
        "A.dot(P)"
      ]
    },
    {
      "cell_type": "code",
      "execution_count": null,
      "metadata": {
        "colab": {
          "base_uri": "https://localhost:8080/"
        },
        "id": "aFCqC44fZThm",
        "outputId": "dc891edf-9c32-4b88-af2a-8cfb063a58b5"
      },
      "outputs": [
        {
          "output_type": "execute_result",
          "data": {
            "text/plain": [
              "array([[ -90,  191],\n",
              "       [ 347, -497]])"
            ]
          },
          "metadata": {},
          "execution_count": 17
        }
      ],
      "source": [
        "A @ P"
      ]
    },
    {
      "cell_type": "code",
      "execution_count": null,
      "metadata": {
        "colab": {
          "base_uri": "https://localhost:8080/"
        },
        "id": "do11l5E2ZVZO",
        "outputId": "aef30b11-0fc4-443e-aafc-80f07f33eb1d"
      },
      "outputs": [
        {
          "output_type": "execute_result",
          "data": {
            "text/plain": [
              "array([[ -90,  191],\n",
              "       [ 347, -497]])"
            ]
          },
          "metadata": {},
          "execution_count": 18
        }
      ],
      "source": [
        "np.matmul(A,P)"
      ]
    },
    {
      "cell_type": "code",
      "execution_count": null,
      "metadata": {
        "id": "yz3_ewhDZXVe"
      },
      "outputs": [],
      "source": [
        "E = np.array([\n",
        "    [-4,-1,-5,13],\n",
        "    [0,0,1,-22],\n",
        "    [3,9,-14,-5],\n",
        "    [-2,1,0,0]\n",
        "])\n",
        "H = np.array([\n",
        "    [2,0,4,-3],\n",
        "    [17,-7,7,12],\n",
        "    [-1,7,17,0],\n",
        "    [0,0,0,-28]\n",
        "])"
      ]
    },
    {
      "cell_type": "code",
      "execution_count": null,
      "metadata": {
        "colab": {
          "base_uri": "https://localhost:8080/"
        },
        "id": "_L8lFRMrZZpe",
        "outputId": "2a2f78c1-ba28-40f3-fcce-9b468f049023"
      },
      "outputs": [
        {
          "output_type": "execute_result",
          "data": {
            "text/plain": [
              "array([[ -20,  -28, -108, -364],\n",
              "       [  -1,    7,   17,  616],\n",
              "       [ 173, -161, -163,  239],\n",
              "       [  13,   -7,   -1,   18]])"
            ]
          },
          "metadata": {},
          "execution_count": 20
        }
      ],
      "source": [
        "E @ H"
      ]
    },
    {
      "cell_type": "code",
      "execution_count": null,
      "metadata": {
        "colab": {
          "base_uri": "https://localhost:8080/"
        },
        "id": "ewa5JggjZbLB",
        "outputId": "8d35baab-f046-48e6-8ce3-b0dbeacea09c"
      },
      "outputs": [
        {
          "output_type": "execute_result",
          "data": {
            "text/plain": [
              "array([[ -20,  -28, -108, -364],\n",
              "       [  -1,    7,   17,  616],\n",
              "       [ 173, -161, -163,  239],\n",
              "       [  13,   -7,   -1,   18]])"
            ]
          },
          "metadata": {},
          "execution_count": 21
        }
      ],
      "source": [
        "E.dot(H)"
      ]
    },
    {
      "cell_type": "code",
      "execution_count": null,
      "metadata": {
        "colab": {
          "base_uri": "https://localhost:8080/"
        },
        "id": "XmErBGm-ZdLF",
        "outputId": "a6ab6e43-b719-4f0c-87b1-3f35fabf274f"
      },
      "outputs": [
        {
          "output_type": "execute_result",
          "data": {
            "text/plain": [
              "array([[ -20,  -28, -108, -364],\n",
              "       [  -1,    7,   17,  616],\n",
              "       [ 173, -161, -163,  239],\n",
              "       [  13,   -7,   -1,   18]])"
            ]
          },
          "metadata": {},
          "execution_count": 22
        }
      ],
      "source": [
        "np.matmul(E, H)"
      ]
    },
    {
      "cell_type": "code",
      "execution_count": null,
      "metadata": {
        "colab": {
          "base_uri": "https://localhost:8080/"
        },
        "id": "SjqMq-OLZers",
        "outputId": "3020c552-f0ab-411f-ab2a-f5178388886b"
      },
      "outputs": [
        {
          "output_type": "execute_result",
          "data": {
            "text/plain": [
              "array([[ -20,  -28, -108, -364],\n",
              "       [  -1,    7,   17,  616],\n",
              "       [ 173, -161, -163,  239],\n",
              "       [  13,   -7,   -1,   18]])"
            ]
          },
          "metadata": {},
          "execution_count": 23
        }
      ],
      "source": [
        "np.dot(E, H)"
      ]
    },
    {
      "cell_type": "markdown",
      "metadata": {
        "id": "qHk0knQlq6Zp"
      },
      "source": [
        "In matrix dot products there are additional rules compared with vector dot products. Since vector dot products were just in one dimension there are less restrictions. Since now we are dealing with Rank 2 vectors we need to consider some rules"
      ]
    },
    {
      "cell_type": "markdown",
      "metadata": {
        "id": "Dtf6HEI_bCeQ"
      },
      "source": [
        "### Rule 1: The inner dimensions of the two matrices in question must be the same."
      ]
    },
    {
      "cell_type": "markdown",
      "metadata": {
        "id": "bOpL_dbhrFqt"
      },
      "source": [
        "Given the following matrices:"
      ]
    },
    {
      "cell_type": "markdown",
      "metadata": {
        "id": "WpmUruU6ttCp"
      },
      "source": [
        "$$D = \\begin{bmatrix}-7&15&0\\\\8&14&3\\\\3&-8&-14\\\\-11&-2&0\\end{bmatrix}, O = \\begin{bmatrix}-4&18&0\\\\-5&1&0\\\\3&1&-8\\\\-9&7&-11\\end{bmatrix}, K = \\begin{bmatrix}9&-6&0&22\\\\16&7&0&-7\\\\-3&14&-3&0\\end{bmatrix}$$\n",
        "\n",
        "So in this case $D$ has a shape of $(3,3)$, $O$ has a shape of $(3,2)$ and $K$ has a shape of $(3,4)$. So the only matrix pairs that is eligible to perform dot product is matrices $D \\cdot K$, or $O \\cdot K$.  "
      ]
    },
    {
      "cell_type": "code",
      "execution_count": null,
      "metadata": {
        "colab": {
          "base_uri": "https://localhost:8080/"
        },
        "id": "d7cp7UbObEE3",
        "outputId": "458fea6d-c245-4237-8e5c-0defcbad6a79"
      },
      "outputs": [
        {
          "output_type": "stream",
          "name": "stdout",
          "text": [
            "(4, 3)\n",
            "(4, 3)\n",
            "(3, 4)\n"
          ]
        }
      ],
      "source": [
        "D = np.array([\n",
        "    [-7,15,0],\n",
        "    [8,14,3],\n",
        "    [3,-8,-14],\n",
        "    [-11,-2,0]\n",
        "])\n",
        "O = np.array([\n",
        "    [-4,18,0],\n",
        "    [-5,1,0],\n",
        "    [3,1,-8],\n",
        "    [-9,7,-11]\n",
        "])\n",
        "K= np.array([\n",
        "    [9,-6,0,22],\n",
        "    [16,7,0,-7],\n",
        "    [-3,14,-3,0]\n",
        "])\n",
        "print(D.shape)\n",
        "print(O.shape)\n",
        "print(K.shape)"
      ]
    },
    {
      "cell_type": "code",
      "execution_count": null,
      "metadata": {
        "colab": {
          "base_uri": "https://localhost:8080/"
        },
        "id": "GXp-A5HvbqN9",
        "outputId": "15f7f7b3-ea9c-489c-9329-64f906365247"
      },
      "outputs": [
        {
          "output_type": "execute_result",
          "data": {
            "text/plain": [
              "array([[ 177,  147,    0, -259],\n",
              "       [ 287,   92,   -9,   78],\n",
              "       [ -59, -270,   42,  122],\n",
              "       [-131,   52,    0, -228]])"
            ]
          },
          "metadata": {},
          "execution_count": 45
        }
      ],
      "source": [
        "D @ K"
      ]
    },
    {
      "cell_type": "code",
      "execution_count": null,
      "metadata": {
        "colab": {
          "base_uri": "https://localhost:8080/"
        },
        "id": "zthPy57Ubq1A",
        "outputId": "f2fc6f8e-f36d-4807-d64b-e03bd59f6a2f"
      },
      "outputs": [
        {
          "output_type": "execute_result",
          "data": {
            "text/plain": [
              "array([[ 252,  150,    0, -214],\n",
              "       [ -29,   37,    0, -117],\n",
              "       [  67, -123,   24,   59],\n",
              "       [  64,  -51,   33, -247]])"
            ]
          },
          "metadata": {},
          "execution_count": 46
        }
      ],
      "source": [
        "O @ K"
      ]
    },
    {
      "cell_type": "code",
      "execution_count": null,
      "metadata": {
        "colab": {
          "base_uri": "https://localhost:8080/"
        },
        "id": "zSZMUpoMc5l4",
        "outputId": "3be23baf-02e5-4604-e368-505c09a8fd0b"
      },
      "outputs": [
        {
          "output_type": "execute_result",
          "data": {
            "text/plain": [
              "array([[ 298,   50,   -6,  168],\n",
              "       [ 220,  -26,   14,   -7],\n",
              "       [-156,  -23,  113,   71],\n",
              "       [   8,   53,  -35,   85]])"
            ]
          },
          "metadata": {},
          "execution_count": 47
        }
      ],
      "source": [
        "D @ O.T"
      ]
    },
    {
      "cell_type": "code",
      "execution_count": null,
      "metadata": {
        "colab": {
          "base_uri": "https://localhost:8080/"
        },
        "id": "AiLmBxXmc7N3",
        "outputId": "37e6357c-1a7d-4f89-bb27-7df1c5f7b276"
      },
      "outputs": [
        {
          "output_type": "stream",
          "name": "stdout",
          "text": [
            "(2, 3)\n",
            "(2, 3)\n"
          ]
        }
      ],
      "source": [
        "N = np.array([\n",
        "    [8,16,-22],\n",
        "    [74,11,0]\n",
        "])\n",
        "U = np.array([\n",
        "    [4,0,0],\n",
        "    [0,-11,8]\n",
        "])\n",
        "print(N.shape)\n",
        "print(U.shape)"
      ]
    },
    {
      "cell_type": "code",
      "execution_count": null,
      "metadata": {
        "colab": {
          "base_uri": "https://localhost:8080/"
        },
        "id": "LajUaHrKc9Gs",
        "outputId": "dc81f963-f416-433c-c854-e7c1b019979e"
      },
      "outputs": [
        {
          "output_type": "execute_result",
          "data": {
            "text/plain": [
              "array([[  32,   64,  -88],\n",
              "       [-814, -121,    0],\n",
              "       [ 592,   88,    0]])"
            ]
          },
          "metadata": {},
          "execution_count": 49
        }
      ],
      "source": [
        "U.T @ N"
      ]
    },
    {
      "cell_type": "code",
      "execution_count": null,
      "metadata": {
        "colab": {
          "base_uri": "https://localhost:8080/"
        },
        "id": "lfElaPFCdAXM",
        "outputId": "ad42b254-3af9-49d7-a3c3-a45e60cbb9bb"
      },
      "outputs": [
        {
          "output_type": "execute_result",
          "data": {
            "text/plain": [
              "array([[  32,  296],\n",
              "       [-352, -121]])"
            ]
          },
          "metadata": {},
          "execution_count": 50
        }
      ],
      "source": [
        "U @ N.T"
      ]
    },
    {
      "cell_type": "markdown",
      "metadata": {
        "id": "0iUCIzqSeBjB"
      },
      "source": [
        "### Rule 2: Dot Product has special properties\n",
        "\n",
        "Dot products are prevalent in matrix algebra, this implies that it has several unique properties and it should be considered when formulation solutions:"
      ]
    },
    {
      "cell_type": "markdown",
      "metadata": {
        "id": "fwdqDFKnt7ep"
      },
      "source": [
        " 1. $A \\cdot B \\neq B \\cdot A$\n",
        " 2. $A \\cdot (B \\cdot C) = (A \\cdot B) \\cdot C$\n",
        " 3. $A\\cdot(B+C) = A\\cdot B + A\\cdot C$\n",
        " 4. $(B+C)\\cdot A = B\\cdot A + C\\cdot A$\n",
        " 5. $A\\cdot I = A$\n",
        " 6. $A\\cdot \\emptyset = \\emptyset$ "
      ]
    },
    {
      "cell_type": "code",
      "execution_count": null,
      "metadata": {
        "id": "IkSH6PfMskGY"
      },
      "outputs": [],
      "source": [
        "A = np.array([\n",
        "    [7,-63],\n",
        "    [32,-30]\n",
        "])\n",
        "B = np.array([\n",
        "    [6,6],\n",
        "    [-2,1]\n",
        "])\n",
        "C = np.array([\n",
        "    [81,33],\n",
        "    [-41,0]\n",
        "])"
      ]
    },
    {
      "cell_type": "code",
      "execution_count": null,
      "metadata": {
        "colab": {
          "base_uri": "https://localhost:8080/"
        },
        "id": "xo5ncN4DsmUp",
        "outputId": "d269482f-3aa6-4ef2-dfe4-a6b71535775b"
      },
      "outputs": [
        {
          "output_type": "execute_result",
          "data": {
            "text/plain": [
              "array([[1., 0., 0., 0., 0., 0.],\n",
              "       [0., 1., 0., 0., 0., 0.],\n",
              "       [0., 0., 1., 0., 0., 0.],\n",
              "       [0., 0., 0., 1., 0., 0.],\n",
              "       [0., 0., 0., 0., 1., 0.],\n",
              "       [0., 0., 0., 0., 0., 1.]])"
            ]
          },
          "metadata": {},
          "execution_count": 52
        }
      ],
      "source": [
        "np.eye(6)"
      ]
    },
    {
      "cell_type": "code",
      "execution_count": null,
      "metadata": {
        "colab": {
          "base_uri": "https://localhost:8080/"
        },
        "id": "KXWirPcSsoyA",
        "outputId": "e1e3d55f-cccc-485f-aedb-b97ec4483115"
      },
      "outputs": [
        {
          "output_type": "execute_result",
          "data": {
            "text/plain": [
              "array([[  7., -63.],\n",
              "       [ 32., -30.]])"
            ]
          },
          "metadata": {},
          "execution_count": 53
        }
      ],
      "source": [
        "A.dot(np.eye(2))"
      ]
    },
    {
      "cell_type": "code",
      "execution_count": null,
      "metadata": {
        "colab": {
          "base_uri": "https://localhost:8080/"
        },
        "id": "GJdW2mAIssmH",
        "outputId": "c0c17c51-d9b0-4a1d-a973-3eded4842c62"
      },
      "outputs": [
        {
          "output_type": "execute_result",
          "data": {
            "text/plain": [
              "False"
            ]
          },
          "metadata": {},
          "execution_count": 54
        }
      ],
      "source": [
        "np.array_equal(A@B, B@A)"
      ]
    },
    {
      "cell_type": "code",
      "execution_count": null,
      "metadata": {
        "colab": {
          "base_uri": "https://localhost:8080/"
        },
        "id": "B0bjmKCGsuWw",
        "outputId": "76a92968-76a4-4b0e-bf88-d41e269008e9"
      },
      "outputs": [
        {
          "output_type": "execute_result",
          "data": {
            "text/plain": [
              "array([[14469,  5544],\n",
              "       [13770,  8316]])"
            ]
          },
          "metadata": {},
          "execution_count": 55
        }
      ],
      "source": [
        "DULAY = A @ (B @ C)\n",
        "DULAY"
      ]
    },
    {
      "cell_type": "code",
      "execution_count": null,
      "metadata": {
        "colab": {
          "base_uri": "https://localhost:8080/"
        },
        "id": "LbgOV0pdsvo7",
        "outputId": "87666836-c6de-4575-861a-af1077439a50"
      },
      "outputs": [
        {
          "output_type": "execute_result",
          "data": {
            "text/plain": [
              "array([[14469,  5544],\n",
              "       [13770,  8316]])"
            ]
          },
          "metadata": {},
          "execution_count": 56
        }
      ],
      "source": [
        "PASCUAL = (A @ B) @ C\n",
        "PASCUAL"
      ]
    },
    {
      "cell_type": "code",
      "execution_count": null,
      "metadata": {
        "colab": {
          "base_uri": "https://localhost:8080/"
        },
        "id": "03pCIbUFsyKc",
        "outputId": "cb00c27a-42f6-4d32-ca8a-324b425c2cb2"
      },
      "outputs": [
        {
          "output_type": "execute_result",
          "data": {
            "text/plain": [
              "False"
            ]
          },
          "metadata": {},
          "execution_count": 57
        }
      ],
      "source": [
        "np.array_equal(DULAY, C)"
      ]
    },
    {
      "cell_type": "code",
      "execution_count": null,
      "metadata": {
        "colab": {
          "base_uri": "https://localhost:8080/"
        },
        "id": "a7G0RfX-sz1S",
        "outputId": "2b1ae259-d932-43e8-d40a-3692e30ebb6b"
      },
      "outputs": [
        {
          "output_type": "execute_result",
          "data": {
            "text/plain": [
              "True"
            ]
          },
          "metadata": {},
          "execution_count": 58
        }
      ],
      "source": [
        "np.array_equiv(DULAY, PASCUAL)"
      ]
    },
    {
      "cell_type": "code",
      "execution_count": null,
      "metadata": {
        "colab": {
          "base_uri": "https://localhost:8080/"
        },
        "id": "i4PehB5Bs1ED",
        "outputId": "38547562-9ff5-4c04-dbf6-2f39cb63ed27"
      },
      "outputs": [
        {
          "output_type": "execute_result",
          "data": {
            "text/plain": [
              "array([[3150,  231],\n",
              "       [3822, 1056]])"
            ]
          },
          "metadata": {},
          "execution_count": 59
        }
      ],
      "source": [
        "A @ C"
      ]
    },
    {
      "cell_type": "code",
      "execution_count": null,
      "metadata": {
        "colab": {
          "base_uri": "https://localhost:8080/"
        },
        "id": "1LYDYfF5s65S",
        "outputId": "2a0663b0-eeca-4595-a1dd-25db15470d38"
      },
      "outputs": [
        {
          "output_type": "execute_result",
          "data": {
            "text/plain": [
              "array([[0., 0.],\n",
              "       [0., 0.]])"
            ]
          },
          "metadata": {},
          "execution_count": 60
        }
      ],
      "source": [
        "z_mat = np.zeros(A.shape)\n",
        "z_mat"
      ]
    },
    {
      "cell_type": "code",
      "execution_count": null,
      "metadata": {
        "colab": {
          "base_uri": "https://localhost:8080/"
        },
        "id": "3H8lTSz-s89R",
        "outputId": "3ceef93e-f2df-47d6-a4dd-2eff9caf6fb6"
      },
      "outputs": [
        {
          "output_type": "execute_result",
          "data": {
            "text/plain": [
              "array([[0., 0.],\n",
              "       [0., 0.]])"
            ]
          },
          "metadata": {},
          "execution_count": 61
        }
      ],
      "source": [
        "a_dot_z = A.dot(np.zeros(A.shape))\n",
        "a_dot_z"
      ]
    },
    {
      "cell_type": "code",
      "execution_count": null,
      "metadata": {
        "colab": {
          "base_uri": "https://localhost:8080/"
        },
        "id": "uPjzovehs-cC",
        "outputId": "605fe260-1a00-427a-b9ee-a5fbce77aa49"
      },
      "outputs": [
        {
          "output_type": "execute_result",
          "data": {
            "text/plain": [
              "True"
            ]
          },
          "metadata": {},
          "execution_count": 62
        }
      ],
      "source": [
        "np.array_equal(a_dot_z,z_mat)"
      ]
    },
    {
      "cell_type": "code",
      "execution_count": null,
      "metadata": {
        "colab": {
          "base_uri": "https://localhost:8080/"
        },
        "id": "DqIpW1ams_yg",
        "outputId": "d0594e3d-3c3d-4af3-8f17-ba5034c3f8e3"
      },
      "outputs": [
        {
          "output_type": "stream",
          "name": "stdout",
          "text": [
            "[[0. 0.]\n",
            " [0. 0.]]\n"
          ]
        },
        {
          "output_type": "execute_result",
          "data": {
            "text/plain": [
              "True"
            ]
          },
          "metadata": {},
          "execution_count": 63
        }
      ],
      "source": [
        "null_mat = np.empty(A.shape, dtype=float)\n",
        "null = np.array(null_mat,dtype=float)\n",
        "print(null)\n",
        "np.allclose(a_dot_z,null)"
      ]
    },
    {
      "cell_type": "markdown",
      "metadata": {
        "id": "nDzKHv5VtAyk"
      },
      "source": [
        "## Determinant\n",
        "A determinant is a scalar value derived from a square matrix. The determinant is a fundamental and important value used in matrix algebra. \n",
        "\n",
        "The determinant of some matrix $S$ is denoted as $det(S)$ or $|S|$. So let's say $S$ is represented as:\n",
        "$$S = \\begin{bmatrix}S_{(0,0)}&S_{(0,1)}\\\\S_{(1,0)}&S_{(1,1)}\\end{bmatrix}$$\n",
        "We can compute for the determinant as:\n",
        "$$|S| = a_{(0,0)}*a_{(1,1)} - a_{(1,0)}*a_{(0,1)}$$\n",
        "So if we have $A$ as:\n",
        "$$S = \\begin{bmatrix}-5&0\\\\6&-11\\end{bmatrix}, |S| = 55$$\n",
        "\n"
      ]
    },
    {
      "cell_type": "code",
      "execution_count": null,
      "metadata": {
        "colab": {
          "base_uri": "https://localhost:8080/"
        },
        "id": "PRNJUatlfUiB",
        "outputId": "ccdc4759-8737-4680-f9e5-b77b3b64821e"
      },
      "outputs": [
        {
          "output_type": "execute_result",
          "data": {
            "text/plain": [
              "54.999999999999964"
            ]
          },
          "metadata": {},
          "execution_count": 64
        }
      ],
      "source": [
        "S = np.array([\n",
        "    [-5,0],\n",
        "    [6,-11]\n",
        "])\n",
        "np.linalg.det(S)"
      ]
    },
    {
      "cell_type": "code",
      "execution_count": null,
      "metadata": {
        "colab": {
          "base_uri": "https://localhost:8080/"
        },
        "id": "xBXXSYnjfY-G",
        "outputId": "a94911ea-c835-45ee-f910-8f7ee3c37567"
      },
      "outputs": [
        {
          "output_type": "execute_result",
          "data": {
            "text/plain": [
              "-5.00000000000001"
            ]
          },
          "metadata": {},
          "execution_count": 65
        }
      ],
      "source": [
        "V = np.array([\n",
        "              [8,-9,3],\n",
        "              [9,-14,20],\n",
        "              [1,-1,0]\n",
        "])\n",
        "np.linalg.det(V)"
      ]
    },
    {
      "cell_type": "code",
      "execution_count": null,
      "metadata": {
        "colab": {
          "base_uri": "https://localhost:8080/"
        },
        "id": "M3Fewdqkgt1G",
        "outputId": "db9f6fa1-d50c-4b21-fafe-ddad7424a7dc"
      },
      "outputs": [
        {
          "output_type": "execute_result",
          "data": {
            "text/plain": [
              "-1401444.0000000014"
            ]
          },
          "metadata": {},
          "execution_count": 66
        }
      ],
      "source": [
        "## Now other mathematics classes would require you to solve this by hand, \n",
        "## and that is great for practicing your memorization and coordination skills \n",
        "## but in this class we aim for simplicity and speed so we'll use programming\n",
        "## but it's completely fine if you want to try to solve this one by hand.\n",
        "J = np.array([\n",
        "    [-81,2,-45,31],\n",
        "    [0,51,33,6],\n",
        "    [14,-8,8,36],\n",
        "    [-55,71,4,9]\n",
        "])\n",
        "np.linalg.det(J)"
      ]
    },
    {
      "cell_type": "markdown",
      "metadata": {
        "id": "F6-VTOReg2JQ"
      },
      "source": [
        "## Inverse\n",
        "The inverse of a matrix is another fundamental operation in matrix algebra. Determining the inverse of a matrix let us determine if its solvability and its characteristic as a system of linear equation — we'll expand on this in the nect module. Another use of the inverse matrix is solving the problem of divisibility between matrices."
      ]
    },
    {
      "cell_type": "code",
      "execution_count": null,
      "metadata": {
        "colab": {
          "base_uri": "https://localhost:8080/"
        },
        "id": "cuQvRRzwg3wr",
        "outputId": "b7e04335-2a55-44ea-d6d5-ec5caebf4d5e"
      },
      "outputs": [
        {
          "output_type": "execute_result",
          "data": {
            "text/plain": [
              "array([[1, 0],\n",
              "       [0, 1]])"
            ]
          },
          "metadata": {},
          "execution_count": 67
        }
      ],
      "source": [
        "W = np.array([\n",
        "    [-7,11],\n",
        "    [-45, -4]\n",
        "])\n",
        "\n",
        "np.array(W @ np.linalg.inv(W), dtype=int)"
      ]
    },
    {
      "cell_type": "code",
      "execution_count": null,
      "metadata": {
        "colab": {
          "base_uri": "https://localhost:8080/"
        },
        "id": "ToI4LVH7g6LU",
        "outputId": "6cfd8f88-cfe6-417a-d09b-1446ec415c2c"
      },
      "outputs": [
        {
          "output_type": "execute_result",
          "data": {
            "text/plain": [
              "array([[ 0.06715635, -0.02623295, -0.00314795],\n",
              "       [-0.04512067, -0.15424974, -0.13850997],\n",
              "       [-0.03252886,  0.02833158, -0.07660021]])"
            ]
          },
          "metadata": {},
          "execution_count": 68
        }
      ],
      "source": [
        "I = np.array([\n",
        "              [15,-2,3],\n",
        "              [1,-5,9],\n",
        "              [-6,-1,-11]\n",
        "])\n",
        "F = np.linalg.inv(I)\n",
        "F"
      ]
    },
    {
      "cell_type": "code",
      "execution_count": null,
      "metadata": {
        "colab": {
          "base_uri": "https://localhost:8080/"
        },
        "id": "TY1Ihnzqg8qW",
        "outputId": "2d4ce375-4b87-435e-a511-187dbab58e86"
      },
      "outputs": [
        {
          "output_type": "execute_result",
          "data": {
            "text/plain": [
              "array([[ 1.00000000e+00, -2.42861287e-17, -1.38777878e-17],\n",
              "       [ 0.00000000e+00,  1.00000000e+00,  6.93889390e-17],\n",
              "       [ 5.55111512e-17, -3.46944695e-18,  1.00000000e+00]])"
            ]
          },
          "metadata": {},
          "execution_count": 69
        }
      ],
      "source": [
        "I @ F"
      ]
    },
    {
      "cell_type": "code",
      "execution_count": null,
      "metadata": {
        "colab": {
          "base_uri": "https://localhost:8080/"
        },
        "id": "BEvz5yTZtOy9",
        "outputId": "e955ea98-6eff-429f-f75a-cb98578589aa"
      },
      "outputs": [
        {
          "output_type": "execute_result",
          "data": {
            "text/plain": [
              "array([[1, 0, 0, 0, 0],\n",
              "       [0, 0, 0, 0, 0],\n",
              "       [0, 0, 1, 0, 0],\n",
              "       [0, 0, 0, 1, 0],\n",
              "       [0, 0, 0, 0, 1]])"
            ]
          },
          "metadata": {},
          "execution_count": 70
        }
      ],
      "source": [
        "## And now let's test your skills in solving a matrix with high dimensions:\n",
        "N = np.array([\n",
        "    [4,75,-11,32,6],\n",
        "    [17,168,-55,7,4],\n",
        "    [36,-123,14,3,6],\n",
        "    [111,-7,-63,32,2],\n",
        "    [1,0,0,-87,14]\n",
        "])\n",
        "N_inv = np.linalg.inv(N)\n",
        "np.array(N @ N_inv,dtype=int)"
      ]
    },
    {
      "cell_type": "code",
      "execution_count": null,
      "metadata": {
        "colab": {
          "base_uri": "https://localhost:8080/"
        },
        "id": "4eqhT68FtSkB",
        "outputId": "410e5fe2-a04e-4851-bfa9-9a7a5dc35c97"
      },
      "outputs": [
        {
          "output_type": "execute_result",
          "data": {
            "text/plain": [
              "array([[31.91288848],\n",
              "       [97.49797835],\n",
              "       [47.95788159]])"
            ]
          },
          "metadata": {},
          "execution_count": 71
        }
      ],
      "source": [
        "squad = np.array([\n",
        "    [2.9822,3.4152,0.2369],\n",
        "    [9.4587,4.1259,3.1258],\n",
        "    [3.6785,2.6587,2.1458]\n",
        "])\n",
        "weights = np.array([\n",
        "    [6.5478,3.1235,7.2548]\n",
        "])\n",
        "p_grade = squad @ weights.T\n",
        "p_grade"
      ]
    },
    {
      "cell_type": "markdown",
      "metadata": {
        "id": "uhCpGkEwtTz2"
      },
      "source": [
        "## Activity\n",
        "Task 1\n",
        "Prove and implement the remaining 6 matrix multiplication properties. You may create your own matrices in which their shapes should not be lower than $(3,3)$. In your methodology, create individual flowcharts for each property and discuss the property you would then present your proofs or validity of your implementation in the results section by comparing your result to present functions from NumPy."
      ]
    },
    {
      "cell_type": "code",
      "execution_count": null,
      "metadata": {
        "colab": {
          "base_uri": "https://localhost:8080/"
        },
        "id": "caju8Yb8tbkr",
        "outputId": "24f5de93-c8b7-4835-f708-1ed7399c1083"
      },
      "outputs": [
        {
          "output_type": "execute_result",
          "data": {
            "text/plain": [
              "array([], dtype=float64)"
            ]
          },
          "metadata": {},
          "execution_count": 72
        }
      ],
      "source": [
        "np.array([])"
      ]
    },
    {
      "cell_type": "code",
      "execution_count": null,
      "metadata": {
        "id": "oatmtSCGKalH"
      },
      "outputs": [],
      "source": [
        "## Function area\n",
        "import numpy as np\n",
        "import matplotlib.pyplot as plt\n",
        "import scipy.linalg as la\n",
        "%matplotlib inline\n"
      ]
    },
    {
      "cell_type": "code",
      "source": [
        "## Comutativity is not applicable (A⋅B≠B⋅A)\n",
        "def mat_prop(firstArray, secondArray):\n",
        "  if len(firstArray) == len(secondArray):\n",
        "    com = M @ A\n",
        "    tat = A @ M\n",
        "    print(f'M⋅A:\\n{com}\\n\\nA⋅M:\\n{tat}\\n\\nEqual:{np.array_equal(M@A, A@M)}')\n",
        "    print(\"\\nTherefore, M ⋅ A is ≠ to A ⋅ M.\")\n",
        "  else:\n",
        "    print(\"Matrices are not viable for operation.\")\n",
        "    \n",
        "M = np.array([\n",
        "              [3,1,2,4],\n",
        "              [2,4,6,8],\n",
        "              [3,0,2,-1],\n",
        "              [8,0,0,-3]\n",
        "])\n",
        "\n",
        "A = np.array([\n",
        "              [1,1,1,-1],\n",
        "              [2,4,6,8],\n",
        "              [3,0,2,-1],\n",
        "              [8,0,0,-3]\n",
        "])\n",
        "\n",
        "mat_prop(M,A)"
      ],
      "metadata": {
        "colab": {
          "base_uri": "https://localhost:8080/"
        },
        "id": "Z-USX0jxIbiG",
        "outputId": "4ca88c6c-8b9d-4c16-ddcc-63497bedf0b5"
      },
      "execution_count": null,
      "outputs": [
        {
          "output_type": "stream",
          "name": "stdout",
          "text": [
            "M⋅A:\n",
            "[[ 43   7  13  -9]\n",
            " [ 92  18  38   0]\n",
            " [  1   3   7  -2]\n",
            " [-16   8   8   1]]\n",
            "\n",
            "A⋅M:\n",
            "[[ 0  5 10 14]\n",
            " [96 18 40 10]\n",
            " [ 7  3 10 13]\n",
            " [ 0  8 16 41]]\n",
            "\n",
            "Equal:False\n",
            "\n",
            "Therefore, M ⋅ A is ≠ to A ⋅ M.\n"
          ]
        }
      ]
    },
    {
      "cell_type": "code",
      "source": [
        "##Associative Law[A⋅(B⋅C)=(A⋅B)⋅C]\n",
        "def mat_prop(firstArray, secondArray, thirdArray):\n",
        "  if len(firstArray) == len(secondArray) == len(thirdArray):\n",
        "    ass = R@(O@S)\n",
        "    oci = (R@O)@S\n",
        "    print(f'R⋅(O⋅S):\\n{ass}\\n\\n(R⋅O)⋅S:\\n{oci}\\n\\nEqual:{np.array_equal(ass, oci)}\\n\\nEquivalent:{np.array_equiv(ass, oci)}')\n",
        "    print(\"\\nTherefore, Associative Law is applicable\")\n",
        "  else:\n",
        "    print(\"Matrices are not viable for operation.\")\n",
        "\n",
        "R = np.array([\n",
        "              [3,1,2,4],\n",
        "              [2,4,6,8],\n",
        "              [3,0,2,-1],\n",
        "              [8,0,0,-3]\n",
        "])\n",
        "\n",
        "O = np.array([\n",
        "              [1,1,1,-1],\n",
        "              [2,4,6,8],\n",
        "              [3,0,2,-1],\n",
        "              [8,0,0,-3]\n",
        "])\n",
        "\n",
        "S = np.array([\n",
        "              [0,3,2,4],\n",
        "              [5,4,3,2],\n",
        "              [3,2,-1,0],\n",
        "              [3,-2,0,5]\n",
        "])\n",
        "\n",
        "mat_prop(R,O,S)"
      ],
      "metadata": {
        "colab": {
          "base_uri": "https://localhost:8080/"
        },
        "id": "LdqHTkieIjtP",
        "outputId": "5b41ffd1-a1cf-4a4d-e78f-6999ac1abcbb"
      },
      "execution_count": null,
      "outputs": [
        {
          "output_type": "stream",
          "name": "stdout",
          "text": [
            "R⋅(O⋅S):\n",
            "[[ 47 201  94 141]\n",
            " [204 424 200 404]\n",
            " [ 30  33   4   0]\n",
            " [ 67  -2 -16 -43]]\n",
            "\n",
            "(R⋅O)⋅S:\n",
            "[[ 47 201  94 141]\n",
            " [204 424 200 404]\n",
            " [ 30  33   4   0]\n",
            " [ 67  -2 -16 -43]]\n",
            "\n",
            "Equal:True\n",
            "\n",
            "Equivalent:True\n",
            "\n",
            "Therefore, Associative Law is applicable\n"
          ]
        }
      ]
    },
    {
      "cell_type": "code",
      "source": [
        "##Distributive Law is applicable [A⋅(B+C)=A⋅B+A⋅C]\n",
        "def mat_prop(firstArray, secondArray, thirdArray):\n",
        "  if len(firstArray) == len(secondArray) == len(thirdArray):\n",
        "    dis = P@(A+S)\n",
        "    tri = (P@A)+(P@S)\n",
        "    print(f'P⋅(A+S):\\n{dis}\\n\\nP⋅A+P⋅S:\\n{tri}\\n\\nEqual:{np.array_equal(dis, tri)}\\n\\nEquivalent:{np.array_equiv(dis, tri)}')\n",
        "    print(\"\\nTherefore, Distributive Law is applicable\")\n",
        "  else:\n",
        "    print(\"Matrices are not viable for operation.\")\n",
        "\n",
        "P = np.array([\n",
        "              [3,1,2,4],\n",
        "              [2,4,2,1],\n",
        "              [3,0,2,-1],\n",
        "              [4,2,0,-3]\n",
        "])\n",
        "\n",
        "A = np.array([\n",
        "              [0,1,-1,0],\n",
        "              [5,10,2,15],\n",
        "              [3,0,2,-1],\n",
        "              [8,15,4,-3]\n",
        "])\n",
        "\n",
        "S = np.array([\n",
        "              [0,1,2,4],\n",
        "              [9,8,7,6,],\n",
        "              [-2,-3,-4,-5],\n",
        "              [3,6,9,3]\n",
        "])\n",
        "\n",
        "mat_prop(P,A,S)"
      ],
      "metadata": {
        "colab": {
          "base_uri": "https://localhost:8080/"
        },
        "id": "oZvXNAfTIpj2",
        "outputId": "99e51221-6791-4983-dcf4-fa0375b1bba2"
      },
      "execution_count": null,
      "outputs": [
        {
          "output_type": "stream",
          "name": "stdout",
          "text": [
            "P⋅(A+S):\n",
            "[[ 60 102  60  21]\n",
            " [ 69  91  47  80]\n",
            " [ -9 -21 -14   0]\n",
            " [ -5 -19 -17  58]]\n",
            "\n",
            "P⋅A+P⋅S:\n",
            "[[ 60 102  60  21]\n",
            " [ 69  91  47  80]\n",
            " [ -9 -21 -14   0]\n",
            " [ -5 -19 -17  58]]\n",
            "\n",
            "Equal:True\n",
            "\n",
            "Equivalent:True\n",
            "\n",
            "Therefore, Distributive Law is applicable\n"
          ]
        }
      ]
    },
    {
      "cell_type": "code",
      "source": [
        "##[(B+C)⋅A=B⋅A+C⋅A]\n",
        "def mat_prop(firstArray, secondArray, thirdArray):\n",
        "  if len(firstArray) == len(secondArray) == len(thirdArray):\n",
        "    dis = (A+S)@P\n",
        "    tri = (A@P)+(S@P)\n",
        "    print(f'(A+S)@P:\\n{dis}\\n\\nA@P)+(S@P)::\\n{tri}\\n\\nEqual:{np.array_equal(dis, tri)}\\n\\nEquivalent:{np.array_equiv(dis, tri)}')\n",
        "    print(\"\\nTherefore, the statement (B+C)⋅A=B⋅A+C⋅A is true\")\n",
        "  else:\n",
        "    print(\"Matrices are not viable for operation.\")\n",
        "\n",
        "mat_prop(P,A,S)"
      ],
      "metadata": {
        "colab": {
          "base_uri": "https://localhost:8080/"
        },
        "id": "Jl5VMdF0Is-O",
        "outputId": "c1208474-48cb-426f-91da-96555a33973e"
      },
      "execution_count": null,
      "outputs": [
        {
          "output_type": "stream",
          "name": "stdout",
          "text": [
            "(A+S)@P:\n",
            "[[ 23  16   6 -11]\n",
            " [189 128  82   2]\n",
            " [-33 -23  -8  21]\n",
            " [114  95  90  52]]\n",
            "\n",
            "A@P)+(S@P)::\n",
            "[[ 23  16   6 -11]\n",
            " [189 128  82   2]\n",
            " [-33 -23  -8  21]\n",
            " [114  95  90  52]]\n",
            "\n",
            "Equal:True\n",
            "\n",
            "Equivalent:True\n",
            "\n",
            "Therefore, the statement (B+C)⋅A=B⋅A+C⋅A is true\n"
          ]
        }
      ]
    },
    {
      "cell_type": "code",
      "source": [
        "##Multiplicative Identity [A⋅I=A/I⋅A=A]\n",
        "def mat_prop(firstArray, secondArray):\n",
        "  if len(firstArray) == len(secondArray):\n",
        "    Ide = A@I\n",
        "    ide = A \n",
        "    print(f'A⋅I:\\n{Ide}\\n\\nA:\\n{ide}\\n\\nEqual:{np.array_equal(Ide, ide)}\\n\\nEquivalent:{np.array_equiv(Ide, ide)}')\n",
        "    print(\"\\nTherefore, the statement A⋅I=A/I⋅A=A is true\")\n",
        "  else:\n",
        "    print(\"Matrices are not viable for operation.\")\n",
        "\n",
        "A = np.array([\n",
        "              [3,5,6,-1],\n",
        "              [2,4,6,8],\n",
        "              [3,4,2,3],\n",
        "              [6,12,-4,3]\n",
        "])\n",
        "\n",
        "I = np.identity(4)\n",
        "\n",
        "mat_prop(A, I)"
      ],
      "metadata": {
        "colab": {
          "base_uri": "https://localhost:8080/"
        },
        "id": "yNOFCYNLIwEA",
        "outputId": "e5d0954f-7a2c-4551-bfdc-fbb322e6e52e"
      },
      "execution_count": null,
      "outputs": [
        {
          "output_type": "stream",
          "name": "stdout",
          "text": [
            "A⋅I:\n",
            "[[ 3.  5.  6. -1.]\n",
            " [ 2.  4.  6.  8.]\n",
            " [ 3.  4.  2.  3.]\n",
            " [ 6. 12. -4.  3.]]\n",
            "\n",
            "A:\n",
            "[[ 3  5  6 -1]\n",
            " [ 2  4  6  8]\n",
            " [ 3  4  2  3]\n",
            " [ 6 12 -4  3]]\n",
            "\n",
            "Equal:True\n",
            "\n",
            "Equivalent:True\n",
            "\n",
            "Therefore, the statement A⋅I=A/I⋅A=A is true\n"
          ]
        }
      ]
    },
    {
      "cell_type": "code",
      "source": [
        "## A⋅∅=∅\n",
        "def mat_prop(firstArray, secondArray):\n",
        "  if len(firstArray) == len(secondArray):\n",
        "    Zer = M@R \n",
        "    print(f'M ⋅ R:\\n{Zer}')\n",
        "    print(\"\\nTherefore, the statement A⋅∅=∅ is true\")\n",
        "  else:\n",
        "    print(\"Matrices are not viable for operation.\")\n",
        "\n",
        "M = np.array([\n",
        "              [30,20,10,50],\n",
        "              [43,55,61,70],\n",
        "              [44,5,33,22],\n",
        "              [10,20,30,40]\n",
        "])\n",
        "\n",
        "R = np.zeros((4,4))\n",
        "\n",
        "mat_prop(M,R)"
      ],
      "metadata": {
        "colab": {
          "base_uri": "https://localhost:8080/"
        },
        "id": "LdmLMUyuIwsv",
        "outputId": "6d765984-9b59-4344-8084-1b1de4bfa837"
      },
      "execution_count": null,
      "outputs": [
        {
          "output_type": "stream",
          "name": "stdout",
          "text": [
            "M ⋅ R:\n",
            "[[0. 0. 0. 0.]\n",
            " [0. 0. 0. 0.]\n",
            " [0. 0. 0. 0.]\n",
            " [0. 0. 0. 0.]]\n",
            "\n",
            "Therefore, the statement A⋅∅=∅ is true\n"
          ]
        }
      ]
    }
  ],
  "metadata": {
    "colab": {
      "name": "Assignment 5_Pascual_Dulay.ipynb",
      "provenance": [],
      "collapsed_sections": [
        "I3zTMVYPYy7Y",
        "TmCMMtoPZCsi",
        "Dtf6HEI_bCeQ",
        "0iUCIzqSeBjB",
        "nDzKHv5VtAyk",
        "F6-VTOReg2JQ"
      ],
      "include_colab_link": true
    },
    "kernelspec": {
      "display_name": "Python 3",
      "name": "python3"
    },
    "language_info": {
      "name": "python"
    }
  },
  "nbformat": 4,
  "nbformat_minor": 0
}