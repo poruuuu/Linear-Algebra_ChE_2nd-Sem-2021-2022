{
  "nbformat": 4,
  "nbformat_minor": 0,
  "metadata": {
    "colab": {
      "name": "Assignment 10_Pascual_Dulay",
      "provenance": [],
      "collapsed_sections": [],
      "include_colab_link": true
    },
    "kernelspec": {
      "name": "python3",
      "display_name": "Python 3"
    },
    "language_info": {
      "name": "python"
    }
  },
  "cells": [
    {
      "cell_type": "markdown",
      "metadata": {
        "id": "view-in-github",
        "colab_type": "text"
      },
      "source": [
        "<a href=\"https://colab.research.google.com/github/poruuuu/Linear-Algebra_ChE_2nd-Sem-2021-2022/blob/main/Assignment_10_Pascual_Dulay.ipynb\" target=\"_parent\"><img src=\"https://colab.research.google.com/assets/colab-badge.svg\" alt=\"Open In Colab\"/></a>"
      ]
    },
    {
      "cell_type": "markdown",
      "source": [
        "#Laboratory 10 : Linear Combination and Vector Spaces"
      ],
      "metadata": {
        "id": "MMnXkqosFO1R"
      }
    },
    {
      "cell_type": "markdown",
      "source": [
        "##Objectives\n",
        "At the end of this activity you will be able to:\n",
        "\n",
        "* Be familiar with representing linear combinations in the 2-dimensional plane.\n",
        "* Visualize spans using vector fields in Python.\n",
        "* Perform vector fields operations using scientific programming."
      ],
      "metadata": {
        "id": "A7Ppvw0FFaJt"
      }
    },
    {
      "cell_type": "markdown",
      "source": [
        "##Discussion"
      ],
      "metadata": {
        "id": "savcRbudFfC6"
      }
    },
    {
      "cell_type": "code",
      "execution_count": 1,
      "metadata": {
        "id": "vO_Aq1y5mtT6"
      },
      "outputs": [],
      "source": [
        "import numpy as np\n",
        "import matplotlib.pyplot as plt\n",
        "%matplotlib inline"
      ]
    },
    {
      "cell_type": "markdown",
      "source": [
        "###Linear Combination\n",
        "\n",
        "In linear algebra, a linear combination is an arrangement created by multiplying each term by a variable and then summing up the outcomes. Let's first try the vectors below:\n",
        "\n",
        "$$R = \\begin{bmatrix} 6\\\\-1 \\\\\\end{bmatrix} , M = \\begin{bmatrix} 4\\\\3 \\\\\\end{bmatrix} $$"
      ],
      "metadata": {
        "id": "1clFq_cCFijr"
      }
    },
    {
      "cell_type": "code",
      "source": [
        "vectR =  np.array([6,-1])\n",
        "vectM =  np.array([4,3])"
      ],
      "metadata": {
        "id": "6k9EJw16pBhS"
      },
      "execution_count": 2,
      "outputs": []
    },
    {
      "cell_type": "markdown",
      "source": [
        "#### Span of single vectors\n",
        "\n",
        "It's the collection of all numerical vector state variables. One vector with a scalar is always on the similar plane, no matter how much it expands or reduces, because the orientation or slope does not change. Let's take vector X as an example."
      ],
      "metadata": {
        "id": "OUAuOGGrGFNc"
      }
    },
    {
      "cell_type": "markdown",
      "source": [
        "$$X = c\\cdot \\begin{bmatrix} 6\\\\-1 \\\\\\end{bmatrix} $$"
      ],
      "metadata": {
        "id": "V77pNjjk1XWv"
      }
    },
    {
      "cell_type": "code",
      "source": [
        "c = np.arange(-5,20,0.5)\n",
        "\n",
        "plt.scatter(c*vectR[0],c*vectR[1])\n",
        "\n",
        "plt.xlim(-20,20)\n",
        "plt.ylim(-20,20)\n",
        "plt.axhline(y=0, color='red')\n",
        "plt.axvline(x=0, color='red')\n",
        "plt.grid()\n",
        "plt.show()"
      ],
      "metadata": {
        "colab": {
          "base_uri": "https://localhost:8080/",
          "height": 269
        },
        "id": "ssISssmXpFtm",
        "outputId": "5944eef1-77db-408b-f30a-1b2d0f7f2f1c"
      },
      "execution_count": 3,
      "outputs": [
        {
          "output_type": "display_data",
          "data": {
            "text/plain": [
              "<Figure size 432x288 with 1 Axes>"
            ],
            "image/png": "[encoded data removed]"
          },
          "metadata": {
            "needs_background": "light"
          }
        }
      ]
    },
    {
      "cell_type": "code",
      "source": [
        "c = np.arange(-40,40,1.5)\n",
        "\n",
        "plt.scatter(c*vectM[0],c*vectM[1])\n",
        "\n",
        "plt.xlim(-50,50)\n",
        "plt.ylim(-50,50)\n",
        "plt.axhline(y=0, color='green')\n",
        "plt.axvline(x=0, color='green')\n",
        "plt.grid()\n",
        "plt.show()"
      ],
      "metadata": {
        "colab": {
          "base_uri": "https://localhost:8080/",
          "height": 265
        },
        "id": "_bxCamQWpNt-",
        "outputId": "85f89e88-e07f-4d7d-ff44-4fd3d84deaf7"
      },
      "execution_count": 4,
      "outputs": [
        {
          "output_type": "display_data",
          "data": {
            "text/plain": [
              "<Figure size 432x288 with 1 Axes>"
            ],
            "image/png": "[encoded data removed]"
          },
          "metadata": {
            "needs_background": "light"
          }
        }
      ]
    },
    {
      "cell_type": "markdown",
      "source": [
        "#### Span of a linear combination of vectors\n",
        "\n",
        "The range of all linear combinations of v, termed the multiples, is the span of linear combination. Each location on the diagonal line is a viable linear combination of v. The span seems to be an endless line that travels through v. Let's take the span of the linear combination below:"
      ],
      "metadata": {
        "id": "YIKyu3iYGPvs"
      }
    },
    {
      "cell_type": "markdown",
      "source": [
        "$$S = \\begin{Bmatrix} c_1 \\cdot\\begin{bmatrix} -4\\\\1 \\\\\\end{bmatrix}, \n",
        "c_2 \\cdot \\begin{bmatrix} 3\\\\7 \\\\\\end{bmatrix}\\end{Bmatrix} $$"
      ],
      "metadata": {
        "id": "4D_ehrzjGWN_"
      }
    },
    {
      "cell_type": "code",
      "source": [
        "vectA = np.array([-4,1])\n",
        "vectB = np.array([3,7])\n",
        "\n",
        "R = np.arange(-20,20,2.5)\n",
        "\n",
        "c1, c2 = np.meshgrid(R,R)\n",
        "\n",
        "vectR = vectA + vectB\n",
        "spanRx = c1*vectA[0] + c2*vectB[0]\n",
        "spanRy = c1*vectA[1] + c2*vectB[1]\n",
        "##plt.scatter(R*vectA[0],R*vectA[1])\n",
        "##plt.scatter(R*vectB[0],R*vectB[1])\n",
        "plt.scatter(spanRx,spanRy, s=5, alpha=0.75)\n",
        "\n",
        "plt.axhline(y=0, color='blue')\n",
        "plt.axvline(x=0, color='blue')\n",
        "plt.grid()\n",
        "plt.show()"
      ],
      "metadata": {
        "colab": {
          "base_uri": "https://localhost:8080/",
          "height": 266
        },
        "id": "Ob72LwxDp2RX",
        "outputId": "b3ac1354-cc35-4489-f477-04a302ef032f"
      },
      "execution_count": 5,
      "outputs": [
        {
          "output_type": "display_data",
          "data": {
            "text/plain": [
              "<Figure size 432x288 with 1 Axes>"
            ],
            "image/png": "[encoded data removed]"
          },
          "metadata": {
            "needs_background": "light"
          }
        }
      ]
    },
    {
      "cell_type": "code",
      "source": [
        "vectP = np.array([7,-12])\n",
        "vectQ = np.array([-4,11])\n",
        "\n",
        "R = np.arange(-50,50,5)\n",
        "\n",
        "c1, c2 = np.meshgrid(R,R)\n",
        "\n",
        "vectR = vectP + vectQ\n",
        "spanRx = c1*vectP[0] + c2*vectQ[0]\n",
        "spanRy = c1*vectP[1] + c2*vectQ[1]\n",
        "##plt.scatter(R*vectA[0],R*vectA[1])\n",
        "##plt.scatter(R*vectB[0],R*vectB[1])\n",
        "plt.scatter(spanRx,spanRy, s=5, alpha=0.75)\n",
        "\n",
        "plt.axhline(y=0, color='orange')\n",
        "plt.axvline(x=0, color='orange')\n",
        "plt.grid()\n",
        "plt.show()"
      ],
      "metadata": {
        "colab": {
          "base_uri": "https://localhost:8080/",
          "height": 265
        },
        "id": "zMJNgodoGcM7",
        "outputId": "02121125-6d6b-4402-aae5-a488168d91c2"
      },
      "execution_count": 6,
      "outputs": [
        {
          "output_type": "display_data",
          "data": {
            "text/plain": [
              "<Figure size 432x288 with 1 Axes>"
            ],
            "image/png": "[encoded data removed]"
          },
          "metadata": {
            "needs_background": "light"
          }
        }
      ]
    },
    {
      "cell_type": "markdown",
      "source": [
        "##Activity\n",
        "\n",
        "Try different linear combinations using different scalar values. In your methodology discuss the different functions that you have used, the linear equation and vector form of the linear combination, and the flowchart for declaring and displaying linear combinations. Please make sure that your flowchart has only few words and not putting the entire code as it is bad practice. In your results, display and discuss the linear combination visualization you made. You should use the cells below for displaying the equation markdows using LaTeX and your code."
      ],
      "metadata": {
        "id": "LcJ-4X0uGoYi"
      }
    },
    {
      "cell_type": "code",
      "source": [
        "vectR =  np.array([10,-5])\n",
        "vectM =  np.array([20,40])"
      ],
      "metadata": {
        "id": "3F6AhwJr8_y1"
      },
      "execution_count": 7,
      "outputs": []
    },
    {
      "cell_type": "markdown",
      "source": [
        "$$R = 6x - 12y$$\n",
        "$$M = -10 + 40y$$\n",
        "\n",
        "\n"
      ],
      "metadata": {
        "id": "40jJhyx89Lcb"
      }
    },
    {
      "cell_type": "markdown",
      "source": [
        "$$R = \\begin{bmatrix} 6\\\\-1 \\\\\\end{bmatrix} ,\\ M = \\begin{bmatrix} 4\\\\3 \\\\\\end{bmatrix} $$\n",
        "\n",
        "$$X_{R} = c\\cdot \\begin{bmatrix} 6\\\\-12 \\\\\\end{bmatrix} $$  \n",
        "$$X_{M} = c\\cdot \\begin{bmatrix} -10\\\\40 \\\\\\end{bmatrix} $$"
      ],
      "metadata": {
        "id": "CgHK44A2tOOk"
      }
    },
    {
      "cell_type": "code",
      "execution_count": 8,
      "metadata": {
        "colab": {
          "base_uri": "https://localhost:8080/",
          "height": 269
        },
        "id": "AZu19AmLq5B_",
        "outputId": "157eb80e-5622-4052-edb1-fd9b60f79388"
      },
      "outputs": [
        {
          "output_type": "display_data",
          "data": {
            "text/plain": [
              "<Figure size 432x288 with 1 Axes>"
            ],
            "image/png": "[encoded data removed]"
          },
          "metadata": {
            "needs_background": "light"
          }
        }
      ],
      "source": [
        "c = np.arange(-10,10,0.5)\n",
        "\n",
        "plt.scatter(c*vectR[0],c*vectR[1])\n",
        "\n",
        "plt.xlim(-20,20)\n",
        "plt.ylim(-20,20)\n",
        "plt.axhline(y=0, color='green')\n",
        "plt.axvline(x=0, color='red')\n",
        "plt.grid()\n",
        "plt.show()"
      ]
    },
    {
      "cell_type": "code",
      "source": [
        "c = np.arange(0,20,1)\n",
        "\n",
        "plt.scatter(c*vectM[0],c*vectM[1])\n",
        "\n",
        "plt.xlim(-50,50)\n",
        "plt.ylim(-50,50)\n",
        "plt.axhline(y=0, color='green')\n",
        "plt.axvline(x=0, color='red')\n",
        "plt.grid()\n",
        "plt.show()"
      ],
      "metadata": {
        "colab": {
          "base_uri": "https://localhost:8080/",
          "height": 265
        },
        "id": "qlGmMYgP0ZpD",
        "outputId": "399f7d5d-8a5d-4a6b-c362-ee4c5a85b133"
      },
      "execution_count": 9,
      "outputs": [
        {
          "output_type": "display_data",
          "data": {
            "text/plain": [
              "<Figure size 432x288 with 1 Axes>"
            ],
            "image/png": "[encoded data removed]"
          },
          "metadata": {
            "needs_background": "light"
          }
        }
      ]
    },
    {
      "cell_type": "markdown",
      "source": [
        "$$D = -8x + 2y$$\n",
        "$$P = 6x + 14y$$\n"
      ],
      "metadata": {
        "id": "WFV2t1zqIlNW"
      }
    },
    {
      "cell_type": "markdown",
      "source": [
        "$$S = \\begin{Bmatrix} c_1 \\cdot\\begin{bmatrix} -8\\\\2 \\\\\\end{bmatrix}, \n",
        "c_2 \\cdot \\begin{bmatrix} 6\\\\14 \\\\\\end{bmatrix}\\end{Bmatrix} $$"
      ],
      "metadata": {
        "id": "pEIuQeaf9j-Z"
      }
    },
    {
      "cell_type": "code",
      "source": [
        "vectD = np.array([-8,2])\n",
        "vectP = np.array([6,14])\n",
        "\n",
        "R = np.arange(-20,20,1.5)\n",
        "\n",
        "c1, c2 = np.meshgrid(R,R)\n",
        "\n",
        "vectR = vectD + vectP\n",
        "spanRx = c1*vectD[0] + c2*vectP[0]\n",
        "spanRy = c1*vectD[1] + c2*vectP[1]\n",
        "plt.scatter(spanRx,spanRy, s=5, alpha=0.75)\n",
        "\n",
        "plt.axhline(y=0, color='pink')\n",
        "plt.axvline(x=0, color='pink')\n",
        "plt.grid()"
      ],
      "metadata": {
        "colab": {
          "base_uri": "https://localhost:8080/",
          "height": 265
        },
        "id": "V8dyqPwy5DYk",
        "outputId": "4ba87b2f-f291-451c-c332-300d200c89e5"
      },
      "execution_count": 10,
      "outputs": [
        {
          "output_type": "display_data",
          "data": {
            "text/plain": [
              "<Figure size 432x288 with 1 Axes>"
            ],
            "image/png": "[encoded data removed]"
          },
          "metadata": {
            "needs_background": "light"
          }
        }
      ]
    },
    {
      "cell_type": "markdown",
      "source": [
        "$$P = 2x + 12y$$\n",
        "$$Q = 4x + 16y$$\n"
      ],
      "metadata": {
        "id": "7qTWmsZT8ee0"
      }
    },
    {
      "cell_type": "markdown",
      "source": [
        "$$S = \\begin{Bmatrix} c_1 \\cdot\\begin{bmatrix} 2\\\\12 \\\\\\end{bmatrix}, \n",
        "c_2 \\cdot \\begin{bmatrix} 4\\\\16 \\\\\\end{bmatrix}\\end{Bmatrix} $$"
      ],
      "metadata": {
        "id": "-Nh97oGa8iu-"
      }
    },
    {
      "cell_type": "code",
      "source": [
        "vectP = np.array([2,12])\n",
        "vectQ = np.array([4,16])\n",
        "\n",
        "R = np.arange(-50,50,2.5)\n",
        "\n",
        "c1, c2 = np.meshgrid(R,R)\n",
        "\n",
        "vectR = vectP + vectQ\n",
        "spanRx = c1*vectP[0] + c2*vectQ[0]\n",
        "spanRy = c1*vectP[1] + c2*vectQ[1]\n",
        "plt.scatter(spanRx,spanRy, s=5, alpha=0.75)\n",
        "\n",
        "plt.axhline(y=0, color='brown')\n",
        "plt.axvline(x=0, color='orange')\n",
        "plt.grid()\n",
        "plt.show()"
      ],
      "metadata": {
        "colab": {
          "base_uri": "https://localhost:8080/",
          "height": 265
        },
        "id": "Ev-3d9gV7RJd",
        "outputId": "046ca4e0-6bef-4c54-9335-d81de4f0a867"
      },
      "execution_count": 11,
      "outputs": [
        {
          "output_type": "display_data",
          "data": {
            "text/plain": [
              "<Figure size 432x288 with 1 Axes>"
            ],
            "image/png": "[encoded data removed]"
          },
          "metadata": {
            "needs_background": "light"
          }
        }
      ]
    },
    {
      "cell_type": "markdown",
      "source": [
        "##Conclusion guide\n",
        "\n",
        "For your conclusion synthesize the concept and application of the laboratory. Briefly discuss what you have learn and achieved in this activity. At the end of your conclusion try to answer the question : \"How can you apply the concept of linear combination in engineering or real-life situations?\"."
      ],
      "metadata": {
        "id": "w-_BEY5OGzib"
      }
    }
  ]
}